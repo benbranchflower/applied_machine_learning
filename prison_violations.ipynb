{
 "cells": [
  {
   "cell_type": "markdown",
   "metadata": {},
   "source": [
    "## Lit review\n",
    "Similar projects used:\n",
    "* OLS\n",
    "* Deep Learning\n",
    "    * Gradient based networks\n",
    "    "
   ]
  },
  {
   "cell_type": "code",
   "execution_count": 1,
   "metadata": {},
   "outputs": [],
   "source": [
    "# some tehcnicalities for working on the campus computers\n",
    "import os\n",
    "\n",
    "import sys\n",
    "sys.path.append(r'R:/JoePriceResearch/Python/Anaconda3/Lib/site-packages')"
   ]
  },
  {
   "cell_type": "code",
   "execution_count": 16,
   "metadata": {},
   "outputs": [],
   "source": [
    "import itertools\n",
    "import operator\n",
    "import re\n",
    "\n",
    "import pandas as pd # getting the data\n",
    "import numpy as np\n",
    "import seaborn as sns\n",
    "from matplotlib import pyplot as plt\n",
    "\n",
    "seed = 17\n",
    "\n",
    "# suppressing warnings\n",
    "def warn(*args, **kwargs):\n",
    "    pass\n",
    "import warnings\n",
    "warnings.warn = warn"
   ]
  },
  {
   "cell_type": "code",
   "execution_count": 3,
   "metadata": {
    "scrolled": true
   },
   "outputs": [
    {
     "name": "stdout",
     "output_type": "stream",
     "text": [
      "first part shape: (3686, 3374)\n",
      "second part shape: (14499, 3374)\n",
      "True\n",
      "all together shape: (18185, 3374)\n"
     ]
    },
    {
     "data": {
      "text/html": [
       "<div>\n",
       "<style scoped>\n",
       "    .dataframe tbody tr th:only-of-type {\n",
       "        vertical-align: middle;\n",
       "    }\n",
       "\n",
       "    .dataframe tbody tr th {\n",
       "        vertical-align: top;\n",
       "    }\n",
       "\n",
       "    .dataframe thead th {\n",
       "        text-align: right;\n",
       "    }\n",
       "</style>\n",
       "<table border=\"1\" class=\"dataframe\">\n",
       "  <thead>\n",
       "    <tr style=\"text-align: right;\">\n",
       "      <th></th>\n",
       "      <th>V0001</th>\n",
       "      <th>V0002</th>\n",
       "      <th>V0003</th>\n",
       "      <th>V0004</th>\n",
       "      <th>V0005</th>\n",
       "      <th>V0006</th>\n",
       "      <th>V0007</th>\n",
       "      <th>V0008</th>\n",
       "      <th>V0009</th>\n",
       "      <th>V0010</th>\n",
       "      <th>...</th>\n",
       "      <th>CS_INCDA</th>\n",
       "      <th>CS_INCJ</th>\n",
       "      <th>CS_INCA</th>\n",
       "      <th>CH_NUMCAR</th>\n",
       "      <th>CH_NUMCAR1</th>\n",
       "      <th>CH_NUMCAR2</th>\n",
       "      <th>CH_NUMCAR3</th>\n",
       "      <th>CH_NUMCAR4</th>\n",
       "      <th>CH_NUMCAR5</th>\n",
       "      <th>CH_CRIM_HISTORY</th>\n",
       "    </tr>\n",
       "  </thead>\n",
       "  <tbody>\n",
       "    <tr>\n",
       "      <th>0</th>\n",
       "      <td>15717</td>\n",
       "      <td>10</td>\n",
       "      <td>201</td>\n",
       "      <td>2</td>\n",
       "      <td>2</td>\n",
       "      <td>0</td>\n",
       "      <td>5</td>\n",
       "      <td>10</td>\n",
       "      <td>215</td>\n",
       "      <td>99</td>\n",
       "      <td>...</td>\n",
       "      <td>0</td>\n",
       "      <td>0</td>\n",
       "      <td>0</td>\n",
       "      <td>0</td>\n",
       "      <td>1</td>\n",
       "      <td>1</td>\n",
       "      <td>1</td>\n",
       "      <td>1</td>\n",
       "      <td>1</td>\n",
       "      <td>2</td>\n",
       "    </tr>\n",
       "    <tr>\n",
       "      <th>1</th>\n",
       "      <td>15718</td>\n",
       "      <td>10</td>\n",
       "      <td>201</td>\n",
       "      <td>2</td>\n",
       "      <td>2</td>\n",
       "      <td>0</td>\n",
       "      <td>5</td>\n",
       "      <td>8</td>\n",
       "      <td>310</td>\n",
       "      <td>99</td>\n",
       "      <td>...</td>\n",
       "      <td>0</td>\n",
       "      <td>0</td>\n",
       "      <td>0</td>\n",
       "      <td>0</td>\n",
       "      <td>1</td>\n",
       "      <td>1</td>\n",
       "      <td>1</td>\n",
       "      <td>1</td>\n",
       "      <td>1</td>\n",
       "      <td>2</td>\n",
       "    </tr>\n",
       "    <tr>\n",
       "      <th>2</th>\n",
       "      <td>15719</td>\n",
       "      <td>10</td>\n",
       "      <td>201</td>\n",
       "      <td>2</td>\n",
       "      <td>2</td>\n",
       "      <td>0</td>\n",
       "      <td>5</td>\n",
       "      <td>2</td>\n",
       "      <td>145</td>\n",
       "      <td>99</td>\n",
       "      <td>...</td>\n",
       "      <td>0</td>\n",
       "      <td>0</td>\n",
       "      <td>0</td>\n",
       "      <td>0</td>\n",
       "      <td>1</td>\n",
       "      <td>1</td>\n",
       "      <td>1</td>\n",
       "      <td>1</td>\n",
       "      <td>1</td>\n",
       "      <td>2</td>\n",
       "    </tr>\n",
       "    <tr>\n",
       "      <th>3</th>\n",
       "      <td>15720</td>\n",
       "      <td>10</td>\n",
       "      <td>201</td>\n",
       "      <td>2</td>\n",
       "      <td>2</td>\n",
       "      <td>0</td>\n",
       "      <td>5</td>\n",
       "      <td>6</td>\n",
       "      <td>150</td>\n",
       "      <td>99</td>\n",
       "      <td>...</td>\n",
       "      <td>0</td>\n",
       "      <td>0</td>\n",
       "      <td>0</td>\n",
       "      <td>0</td>\n",
       "      <td>1</td>\n",
       "      <td>1</td>\n",
       "      <td>1</td>\n",
       "      <td>1</td>\n",
       "      <td>1</td>\n",
       "      <td>2</td>\n",
       "    </tr>\n",
       "    <tr>\n",
       "      <th>4</th>\n",
       "      <td>15721</td>\n",
       "      <td>10</td>\n",
       "      <td>201</td>\n",
       "      <td>2</td>\n",
       "      <td>2</td>\n",
       "      <td>0</td>\n",
       "      <td>4</td>\n",
       "      <td>11</td>\n",
       "      <td>183</td>\n",
       "      <td>99</td>\n",
       "      <td>...</td>\n",
       "      <td>0</td>\n",
       "      <td>0</td>\n",
       "      <td>1</td>\n",
       "      <td>1</td>\n",
       "      <td>2</td>\n",
       "      <td>1</td>\n",
       "      <td>2</td>\n",
       "      <td>2</td>\n",
       "      <td>2</td>\n",
       "      <td>1</td>\n",
       "    </tr>\n",
       "  </tbody>\n",
       "</table>\n",
       "<p>5 rows × 3374 columns</p>\n",
       "</div>"
      ],
      "text/plain": [
       "   V0001  V0002  V0003  V0004  V0005  V0006  V0007  V0008  V0009  V0010  \\\n",
       "0  15717     10    201      2      2      0      5     10    215     99   \n",
       "1  15718     10    201      2      2      0      5      8    310     99   \n",
       "2  15719     10    201      2      2      0      5      2    145     99   \n",
       "3  15720     10    201      2      2      0      5      6    150     99   \n",
       "4  15721     10    201      2      2      0      4     11    183     99   \n",
       "\n",
       "        ...         CS_INCDA  CS_INCJ  CS_INCA  CH_NUMCAR  CH_NUMCAR1  \\\n",
       "0       ...                0        0        0          0           1   \n",
       "1       ...                0        0        0          0           1   \n",
       "2       ...                0        0        0          0           1   \n",
       "3       ...                0        0        0          0           1   \n",
       "4       ...                0        0        1          1           2   \n",
       "\n",
       "   CH_NUMCAR2  CH_NUMCAR3  CH_NUMCAR4  CH_NUMCAR5  CH_CRIM_HISTORY  \n",
       "0           1           1           1           1                2  \n",
       "1           1           1           1           1                2  \n",
       "2           1           1           1           1                2  \n",
       "3           1           1           1           1                2  \n",
       "4           1           2           2           2                1  \n",
       "\n",
       "[5 rows x 3374 columns]"
      ]
     },
     "execution_count": 3,
     "metadata": {},
     "output_type": "execute_result"
    }
   ],
   "source": [
    "df = pd.read_csv('ICPSR_04572/DS0001/04572-0001-Data.tsv', sep='\\t')\n",
    "df2 = pd.read_csv('ICPSR_04572/DS0002/04572-0002-Data.tsv', sep='\\t')\n",
    "print('first part shape:',df.shape)\n",
    "print('second part shape:',df2.shape)\n",
    "print(all(df2.columns == df.columns))\n",
    "df = df.append(df2)\n",
    "print('all together shape:',df.shape)\n",
    "df.head()"
   ]
  },
  {
   "cell_type": "markdown",
   "metadata": {},
   "source": [
    "## Feature cleaning and Engineering"
   ]
  },
  {
   "cell_type": "code",
   "execution_count": 4,
   "metadata": {},
   "outputs": [],
   "source": [
    "# all of these values are missing data so we will replace them with np.nan\n",
    "nan_list = [99, 999, 9999, 9999.99, 99999, 99999.99, 999999, 999999.99,9999999,9999999.99,\n",
    "            99999999, 99999999.99, 9999999.98,9999998.00, 9999999.98, 9999998.00, 9999997.00]\n",
    "df.replace(nan_list, np.nan, inplace=True)"
   ]
  },
  {
   "cell_type": "markdown",
   "metadata": {},
   "source": [
    "We need to clean up some variables that we will be using as outcomes and things that come as a direct result like disciplinary action"
   ]
  },
  {
   "cell_type": "code",
   "execution_count": 5,
   "metadata": {
    "scrolled": true
   },
   "outputs": [],
   "source": [
    "# this block has the violations and discipline\n",
    "discipline_cols = [f'V{i}' for i in range(2500, 2565)]\n",
    "discipline = df.loc[:,discipline_cols]\n",
    "df.drop(columns=discipline_cols, inplace=True)"
   ]
  },
  {
   "cell_type": "code",
   "execution_count": 6,
   "metadata": {},
   "outputs": [],
   "source": [
    "# renaming target variables\n",
    "targets = {\n",
    "'V2518':'drugs',\n",
    "'V2519':'n_drugs',\n",
    "'V2520':'alcohol',\n",
    "'V2521':'n_alcohol',\n",
    "'V2522':'weapon_poss',\n",
    "'V2523':'n_reapon_poss',\n",
    "'V2524':'stolen_prop',\n",
    "'V2525':'n_stolen_prop',\n",
    "'V2526':'poss_unauth',\n",
    "'V2527':'n_poss_unauth',\n",
    "'V2528':'verbal_staff',\n",
    "'V2527':'n_verbal_staff',\n",
    "'V2530':'phys_staff',\n",
    "'V2531':'n_phys_staff',\n",
    "'V2532':'verb_inmate',\n",
    "'V2533':'n_verb_inmate',\n",
    "'V2534':'phys_inmate',\n",
    "'V2535':'n_phys_inmate',\n",
    "'V2536':'att_escape',\n",
    "'V2537':'n_att_escape',\n",
    "'V2538':'out_place',\n",
    "'V2539':'n_out_place',\n",
    "'V2540':'disobey_ord',\n",
    "'V2541':'n_disobey_ord',\n",
    "'V2542':'maj_violation',\n",
    "'V2543':'n_maj_violation',\n",
    "'V2544':'minor_violation',\n",
    "'V2545':'n_minor_violation',\n",
    "'V2546':'other_violation',\n",
    "'V2547':'n_other_violation',\n",
    "'V2549':'recent_violations',\n",
    "}\n",
    "discipline.rename(mapper=targets, axis='columns', inplace=True)"
   ]
  },
  {
   "cell_type": "code",
   "execution_count": 7,
   "metadata": {},
   "outputs": [],
   "source": [
    "# we only need to rename these ones for now and we will work with the other ones if we see a particular importance\n",
    "varnames = {'V0001':'id','V00014':'age','V0019':'hispanic','V0037':'white','V0038':'black',\n",
    "            'V0039':'native_american','V0040':'asian','V0041':'pacfic_islander',\n",
    "            'V0042':'other_race','V0043':'unknown_race','V0046':'born_us',\n",
    "            'V0058':'marital_status','V0059':'military_service','V0079':'time_mil_service',\n",
    "            'V0083':'corrently_sentenced','V0084':'crim_stat_arrest','V0085':'wait_judicial_res',\n",
    "            'V0086':'wait_trial','V0087':'wait_parole','V0088':'judge_informed_time',\n",
    "            'V0089':'crim_stat_last_arrest','V0090':'held_other_authorities','V0091':'held_safekeeping',\n",
    "            'V0092':'held_other_reason','V2603':'prison_type',\n",
    "            # use offense codes for replacement to get categories of crimes\n",
    "                # 94,96,98,100,102 previous holding offenses\n",
    "                # 95,97,999,101,103 number of charges for said offenses\n",
    "                # 115,117,119,121,123 current holding offenses\n",
    "                # 116,118,120,122,124\n",
    "            'V0125':'arrest_month','V0127':'arrest_year',\n",
    "            'V0638':'crim_just_status',\n",
    "            # 639 - : pleas and trial info\n",
    "           }\n",
    "df.rename(mapper=varnames, axis='columns', inplace=True)"
   ]
  },
  {
   "cell_type": "code",
   "execution_count": 8,
   "metadata": {},
   "outputs": [],
   "source": [
    "# create height variable\n",
    "df['height'] = [(x * 12) if x < 90 else np.nan for x in df['V0007']]\n",
    "df['V0008'] = [y if y < 97 else 0 for y in df['V0008']]\n",
    "df['height'] = [x + y if y < 13 else y for x, y in zip(df['height'], df['V0008'])]"
   ]
  },
  {
   "cell_type": "code",
   "execution_count": 9,
   "metadata": {},
   "outputs": [],
   "source": [
    "# create binary plea or guilty verdict variable\n",
    "df['plea'] = df['V0639'].replace(99,np.nan).fillna(df['V0640'].replace([99,2],[np.nan,1])).fillna(df['V0641'].replace([99,3],[np.nan,1])).fillna(df['V0642'].replace([99,4],[np.nan,1])).fillna(df['V0643'].replace([99,5],[np.nan,1]))\n",
    "df['found_guilty'] = df['V0647'].replace([2,7,8,9],[0,np.nan,np.nan,np.nan])"
   ]
  },
  {
   "cell_type": "code",
   "execution_count": 17,
   "metadata": {},
   "outputs": [],
   "source": [
    "# generate time since arrest variables\n",
    "df['mth_int_arr'] = (df['V2955'].replace(9999, np.nan) - df['V2953'].replace(9999,np.nan)) * 12 + (df['V2956'].replace(9999,np.nan) - df['V2952'].replace(9999, np.nan))\n",
    "df['mth_int_arr'][df['mth_int_arr'] < 0] = np.nan"
   ]
  },
  {
   "cell_type": "code",
   "execution_count": 11,
   "metadata": {},
   "outputs": [],
   "source": [
    "# Many values are codes as 1 and 2 for yes and no respectively we will change 2s to 0s\n",
    "two_to_zero = ['SES_PARENTS_INCARCERATED','SES_FAMILY_INCARCERATED', 'DRUG_ANY', 'DRUG_COCRK','DRUG_HEROPIT',\n",
    " 'DRUG_DEPRES',\n",
    " 'DRUG_STIMU','DRUG_HALLU', 'DRUG_MARIJ', 'DRUG_INHAL', 'DRUG_METHAM', 'DRUG_COCRK', 'DRUG_DEPREG',\n",
    " 'DRUG_STIMREG','DRUG_HALUREG', 'DRUG_MARIJREG', 'DRUG_INHALREG', 'DRUG_METHAMREG','DRUG_ANYMTH', 'DRUG_COCRKREG',\n",
    " 'DRUG_DEPMTH','DRUG_STIMMTH','DRUG_HALUMTH', 'DRUG_MARIJMTH', 'DRUG_INHALMTH', 'DRUG_METHAMTH',\n",
    " 'DRUG_ANYTME', 'DRUG_COCRKTME','DRUG_HROPTME', 'DRUG_DEPTME', 'DRUG_STIMTME','DRUG_HALUTME', 'DRUG_MARIJTME',\n",
    " 'DRUG_METHATME', 'DRUG_NUMPOS_CAGE', 'DRUG_ANY_ALCDRUGTME', 'DRUG_DROVE_ALCDRUG', 'DRUG_CARACCIDENT_ALCDRUG', \n",
    " 'DRUG_DISPUTES_ALCDRUG', 'DRUG_FIRED_ALCDRUG', 'DRUG_WORKTROUBLE_ALCDRUG', 'DRUG_ARRESTED_ALCDRUG',\n",
    " 'DRUG_FIGHT_ALCDRUG', 'DRUG_ANYTRT', 'DRUG_ANYPGM', 'DRUG_HEROIN_CB', 'DRUG_OPIATES_CB', 'DRUG_METHAMP_CB',\n",
    " 'DRUG_AMPH_CB','DRUG_METHAQ_CB','DRUG_BARB_CB','DRUG_TRANQ_CB', 'DRUG_CRACK_CB','DRUG_COCAINE_CB',\n",
    " 'DRUG_PCP_CB', 'DRUG_HALLU_CB', 'DRUG_MARIJ_CB', 'DRUG_OTHERDRUG_CB', 'DRUG_INHAL_CB', 'DRUG_INJECT_CB',\n",
    " 'DRUG_HEROINREG_CB', 'DRUG_OPIATESREG_CB', 'DRUG_METHAMPREG_CB',\n",
    " 'DRUG_AMPHREG_CB','DRUG_METHAQREG_CB','DRUG_BARBREG_CB','DRUG_TRANQREG_CB', 'DRUG_CRACKREG_CB','DRUG_COCREG_CB',\n",
    " 'DRUG_PCPREG_CB', 'DRUG_HALLUREG_CB', 'DRUG_MARIJREG_CB', 'DRUG_OTHERDRUGREG_CB', 'DRUG_INHALREG_CB',\n",
    " 'DRUG_HEROINMTH_CB', 'DRUG_OPIATESMTH_CB', 'DRUG_METHAMPMTH_CB',\n",
    " 'DRUG_AMPHMTH_CB','DRUG_METHAQMTH_CB','DRUG_BARBMTH_CB','DRUG_TRANQMTH_CB', 'DRUG_CRACKMTH_CB','DRUG_COCAINEMTH_CB',\n",
    " 'DRUG_PCPMTH_CB', 'DRUG_HALLUMTH_CB', 'DRUG_MARIJMTH_CB', 'DRUG_OTHERDRUGMTH_CB', 'DRUG_INHALMTH_CB',\n",
    " 'DRUG_ANYINF_CB', 'DRUG_CURRENTOFFENSE_DRUGS', 'DRUG_DROVE_DRUG', 'DRUG_CARACCIDENT_DRUG', 'DRUG_DISPUTES_DRUG',\n",
    " 'DRUG_TRT', 'CITIZENSHIP', 'CO_PAROLEVIOLATION', 'CO_PROBVIOLATION', 'CO_NEWCOURTCOMMIT', 'CO_UNSENTENCED',\n",
    " 'IC_ONEVICT_HISPANIC', 'IC_ONEVICT_GENDER', 'IC_MANYVICT_INCIDENT', 'IC_MANYVICT_HISPANIC', 'IC_MANYVICT_KNOWNVICT',\n",
    " 'GENDER','SEX_OFFENDER', 'MCMH_SMI', 'SES_PARENTS_MINOR', 'SES_LIVE_CHILDREN', 'SES_LIVE_CHILD_ARREST',\n",
    " 'SES_ANY_CHILDREN', 'CS_SEX_TREATMENT', 'CH_CRIM_HISTORY', 'MCMH_MENTAL_HISTORY']\n",
    "two_to_zero.extend([x for x in df.columns if re.search(r'DRUG_.+?_TMEINF',x)])\n",
    "two_to_zero.extend([x for x in df.columns if re.search(r'SES_INCOMES.+?[^M]',x)])\n",
    "two_to_zero.extend([x for x in df.columns if re.search(r'IC_W.+?',x)])\n",
    "two_to_zero.extend([x for x in df.columns if re.search(r'MCMH_\\w$',x)])\n",
    "two_to_zero.extend([x for x in df.columns if re.search(r'MCMH_MH_.+?$',x)])\n",
    "two_to_zero.extend([x for x in df.columns if re.search(r'MCMH_WHEN_.+?$',x)])\n",
    "two_to_zero.extend([x for x in df.columns if re.search(r'MCMH.*?HIV.*?',x)])\n",
    "# do the actual change\n",
    "\n",
    "for c in two_to_zero:\n",
    "    df[c] = df[c].replace(2, 0)\n",
    "    df[c] = df[c].replace([7,8,9], np.nan)"
   ]
  },
  {
   "cell_type": "code",
   "execution_count": 12,
   "metadata": {},
   "outputs": [],
   "source": [
    "# variables that should be categorical but are numeric\n",
    "to_cat = ['RACE','SES_AGEPERP_PHYSSEXABUSED','SES_OFF_RAPED','SES_PERP_SEX_KNOWN','CH_CRIMHIST_COLLAPSED', 'CH_PRIORSENTENCE',\n",
    "'CO_STATUSTME', 'SES_LIVEDGROWINGUP','DRUG_NUMPOS_CAGE_COLLAPSED','DRUG_ALCYEAR_FREQ','CO_CURRENTOFFENSE',\n",
    "'SES_INCOMEMTH', 'IC_ONEVICT_RACE', 'IC_ONEVICT_AGECAT', 'IC_ONEVICT_RELATIONSHIP', 'IC_MANYVICT_RACE',\n",
    " 'IC_MANYVICT_GENDER', 'DRUG_HIERARCHY2','TYPEOFFENSE','MOST_SERIOUS_OFFENSE2', 'MCMH_EVERRPT',\n",
    "         'prison_type']\n",
    "\n",
    "# do the actual change\n",
    "for c in to_cat:\n",
    "    df[c] = df[c].astype(str)"
   ]
  },
  {
   "cell_type": "code",
   "execution_count": 13,
   "metadata": {},
   "outputs": [],
   "source": [
    "# special encoding for sentence length\n",
    "# 1000 is life\n",
    "df['life_sentence'] = df['CS_SENTENCEMTH'] == 10000\n",
    "df.loc[df['CS_SENTENCEMTH'] > 720,'CS_SENTENCEMTH'] = 720"
   ]
  },
  {
   "cell_type": "code",
   "execution_count": 14,
   "metadata": {},
   "outputs": [],
   "source": [
    "# named variables to drop\n",
    "drop_me = ['SES_PERP_SEX_FAMILY','SES_PERP_SEX_PARENT', 'SES_PERP_SEX_RELATIVE','SES_PERP_SEX_SPOUSE',\n",
    " 'SES_PERP_SEX_SPOUSE_BOY_GIRL','SES_PERP_SEX_BOY_GIRL','SES_PERP_SEX_FRIEND','SES_PERP_SEX_OTHER',\n",
    "'CH_CRIMHIST', 'CH_PROBATION','CH_INCARCERATION','SES_MINOR_ADULT_CHILDREN', 'DRUG_TRTINC',\n",
    " 'DRUG_TRTPRB', 'DRUG_TRTCORR', 'DRUG_TRT_ALC_PROBPAR', 'DRUG_TRT_DRUG_PROBPAR', 'DRUG_TRT_ADM',\n",
    " 'DRUG_TRT_ALC_ADM', 'DRUG_TRT_DRUG_ADM', 'DRUG_PGMINC', 'DRUG_PGMPRB','DRUG_PGMCORR', 'DRUG_PGMPRBALC',\n",
    " 'DRUG_PGMPRBDRUG', 'DRUG_PGMADM', 'DRUG_PGMADMALC', 'DRUG_PGMADMDRUG', 'DRUG_TRPINC', 'DRUG_TRPPRB',\n",
    " 'DRUG_TRPCORR', 'DRUG_TRPPRBALC', 'DRUG_TRPADM', 'DRUG_TRPADMALC', 'DRUG_TRPADMDRUG',\n",
    " 'DRUG_FIRED_DRUG', 'DRUG_WORKTROUBLE_DRUG', 'DRUG_ARRESTED_DRUG', 'DRUG_FIGHT_DRUG', 'DRUG_12DRINKS', \n",
    " 'DRUG_ALCREG', 'DRUG_ALCYEAR', 'DRUG_ALCTME', 'DRUG_CUTDOWN_ALC', 'DRUG_CRITICISM_ALC', 'DRUG_GUILITY_ALC', \n",
    " 'DRUG_FIRSTTHING_ALC', 'DRUG_DRIVE_ALC', 'DRUG_ACCIDENT_ALC', 'DRUG_5LIQUOR_EQ_ALC','DRUG_DISPUTE_ALC',\n",
    " 'DRUG_LOSTJOB_ALC', 'DRUG_WORKTROUBLE_ALC', 'DRUG_ARRESTED_ALC', 'DRUG_FIGHT_ALC', 'DRUG_TRT_DETOX',\n",
    " 'DRUG_TRT_RES', 'DRUG_TRT_PROFCOUN', 'DRUG_TRT_GROUP', 'DRUG_TRT_EDUCPRG', 'DRUG_TRT_MAINDRUG', \n",
    " 'DRUG_TRT_OTHERPRG', 'DRUG_TRT_SEPPRG','IC_ONEVICT_KNOWNVICTWELL','IC_ONEVICT_KNOWNVICT',\n",
    " 'IC_MANYVICT_HISPANIC_OVERALL', 'IC_MANYVICT_SAMERACE', 'IC_MANYVICT_YOUNGEST', 'IC_MANYVICT_OLDEST',\n",
    " 'CAT_AGE3', 'DRUG_HIERARCHY','MOST_SERIOUS_OFFENSE1','MCMH_MHOSPYR', 'MCMH_MHOSPADM', 'MCMH_MHOSPYRADM']\n",
    "drop_me.extend([x for x in df.columns if re.search(r'DRUG.*?TRT.*?_INC',x)])\n",
    "drop_me.extend([x for x in df.columns if re.search(r'DRUG.*?TRT_.+?_PROBPAR',x)])\n",
    "drop_me.extend([x for x in df.columns if re.search(r'DRUG.*?TRT_.+?_ADM',x)])\n",
    "drop_me.extend([x for x in df.columns if re.search(r'SES_PERP_PHYS_[^K].+?',x)])\n",
    "drop_me.extend([x for x in df.columns if re.search(r'SES_PERP_PHYSSEX.*?',x)])\n",
    "drop_me.extend([x for x in df.columns if re.search(r'SES_INCOME[^M].*?MTH',x)])\n",
    "drop_me.extend([x for x in df.columns if re.search(r'IC_MANYVICT_[^K].*?',x)])\n",
    "drop_me.extend([x for x in df.columns if re.search(r'CH_NUMCAR\\d',x)])\n",
    "# do the actual dropping\n",
    "df.drop(columns=drop_me, inplace=True)"
   ]
  },
  {
   "cell_type": "code",
   "execution_count": 18,
   "metadata": {},
   "outputs": [
    {
     "name": "stdout",
     "output_type": "stream",
     "text": [
      "Down to 3157 columns\n"
     ]
    }
   ],
   "source": [
    "# these are some more variables that we will not use as the info in the codebook says they are redundant\n",
    "drop_list = [3,4,6,10,11,12,13,15,16,17,18,20,21,22,23,24,25,26,27,28,29,30,31,32,33,34,35,36,44,45,47,48,\n",
    "49,50,51,52,53,54,55,56,57,60,61,62,63,64,65,66,67,68,69,70,71,71,72,73,74,75,76,77,78,80,81,\n",
    "82, 639,640,641,642,643]\n",
    "more_drops = [x for x in range(150,638)]\n",
    "drop_list.extend(more_drops)\n",
    "more_drops = [x for x in range(2622,2928)]\n",
    "drop_list.extend(more_drops)\n",
    "more_drops = [x for x in range(2604,2620)]\n",
    "drop_list.extend(more_drops)\n",
    "more_drops = [x for x in range(2959,2969)]\n",
    "drop_list.extend(more_drops)\n",
    "more_drops = [x for x in range(2955,2958)]\n",
    "drop_list.extend(more_drops)\n",
    "df.drop([\"V{:04}\".format(x) for x in drop_list], axis='columns')\n",
    "# 20-26 clarify hispaninc origin\n",
    "# 51,52 has citizenship info but too much was missing to be worth using\n",
    "# 60 - 66 clarify military service\n",
    "# 82 has discharge type for military\n",
    "# 104 - 114 previous arrest dates too many missing to be useful\n",
    "# 123-149 time of arrest, admission and release variables\n",
    "# 150 - 637 previous prison sentences undr other circumstances like parole violations and such\n",
    "    # 150-166 parole revocation info\n",
    "    # 167-190 parole readmission and release info\n",
    "# 559 days spent escaped\n",
    "\n",
    "print(f'Down to {df.shape[1]} columns')"
   ]
  },
  {
   "cell_type": "code",
   "execution_count": 19,
   "metadata": {},
   "outputs": [],
   "source": [
    "# classify types of offenses 'V{}'.format(, '')\n",
    "offense_codes = {'homicide':[10,11,12,13,14],\n",
    " 'manslaughter':[15,16,20,21,22,30,31,32],\n",
    " 'kidnapping':[40,41,42],\n",
    " 'rape':[50,51,52,60,61,62],\n",
    " 'sexual assault':[70,71,72,80,81,82],\n",
    " 'armed robbery':[90,91,92],\n",
    " 'unarmed robbery':[100,101,102],\n",
    " 'sodomy':[110,111,112],\n",
    " 'assault':[120,121,122,130,131,132,140,141,142],\n",
    " 'extortion':[150,151,152],\n",
    " 'hit and run':[160,161,612,300],\n",
    " 'child abuse':[170,171,172],\n",
    " 'other violence':[180],\n",
    " 'burglary':[190,191,192],\n",
    " 'arson':[200,201,202],\n",
    " 'auto theft':[210,211,212],\n",
    " 'fraud, embezzlement, bribery':[220,221,222,260,261,262,673,674,675,800,810,820,830,860],\n",
    " 'larceny':[230,231,232,240,241,242,250,251,252],\n",
    " 'trafficking stolen property':[270,271,272,280,281,282],\n",
    " 'destruction of property':[290,291,292],\n",
    " 'unauthorized vehicle':[310,311,312],\n",
    " 'trespassing':[320,321,322],\n",
    " 'other property offense':[330,331,332],\n",
    " 'drug trafficking':[340,341,342,350,351,352,360,361,362,370,371,372],\n",
    " 'drog posession/use':[380,381,382,385,286,387,390,391,392,400,401,402,410,420,425,430,440,450],\n",
    " 'escape':[460,461,462,470,471,472],\n",
    " 'weapon offense':[480,481,482],\n",
    " 'parole/probation violation':[490,500],\n",
    " 'rioting':[510,511,512],\n",
    " 'habitual':[520],\n",
    " 'other':[530,580,630,650,670,671,672,660,690,691,692,700,710,840,880,870],\n",
    " 'court offense':[540,541,542],\n",
    " 'traffic violations':[550,560,565,570],\n",
    " 'decency offenses':[590,600],\n",
    " 'immigration':[610],\n",
    " 'obstruction of law':[620,621,622],\n",
    " 'vice':[640],\n",
    " 'juvenile':[680],\n",
    " 'tax':[850]\n",
    "                }\n",
    "\n",
    "occupation_codes = {\n",
    "    'managerial position':[1,2,4,5,10,11,12,13,14,15,16,20,21,22,23,30,\n",
    "                           31,32,33,34,35,36,40,41,42,43],\n",
    "    'business operations':[50,52,53,54,56,60,62,70,71,72,73,80,81,82,83,\n",
    "                           84,85,86,91,93,94,95],\n",
    "    'CS and Math':[100,101,102,104,106,110,111,122],\n",
    "    'Architecture and engineering':[130,131,134,136,140,141,142,143,146,\n",
    "                                    153,154,155,156],\n",
    "    'life,physical,social science':[160,172,174,176,181,182,186,192,193,196],\n",
    "    'community and social services':[200,201,202,204,206],\n",
    "    'legal':[210,211,214,215],\n",
    "    'education':[220,230,232,233,234,240,243,244,254,255],\n",
    "    'enetertainment':[160,263,270,271,272,274,275,276,280,282,283,285,286,290,291,292],\n",
    "    'health':[303,305,306,313,316,324,325,330,332,340,341,350,351,352,353,354,\n",
    "    360,361,362,363,364,365],\n",
    "    'protective services':[370,371,372,373,374,380,382,385,390,391,392,394,395],\n",
    "    'food prep':[400,401,402,403,404,405,406,411,412,413,414,415,416],\n",
    "    'maintenance':[420,421,422,423,424,425,700,701,702,703,704,710,711,712,713,714,715,\n",
    "    716,720,721,722,724,726,731,732,733,734,735,736,741,742,743,751,752,\n",
    "    754,755,756,760,761,762],\n",
    "    'personal care and service':[430,432,434,435,440,442,443,446,450,451,\n",
    "                                 452,453,454,455,460,461,462,464,465],\n",
    "    'sales':[470,471,472,474,475,476,480,481,482,483,484,485,490,492,494,495,496],\n",
    "    'administrative support':[500,501,502,503,510,511,512,513,514,516,520,522,523,524,526,530,532,\n",
    "    532,533,535,536,540,541,542,551,552,553,554,555,556,560,561,562,563,\n",
    "    570,580,581,582,583,584,585,586,590,591,593],\n",
    "    'farm fish forest':[600,601,602,604,605,610,612,613],\n",
    "    'construction':[620,621,622,623,624,625,626,630,631,632,633,635,636,640,642,643,644,\n",
    "    646,650,651,652,653,660,666,670,671,672,673,674,675,676,680,682,683,684,\n",
    "    692,693,694],\n",
    "    'production':[770,771,772,773,774,775,780,781,783,784,785,790,792,793,795,796,\n",
    "    800,801,802,803,804,810,813,814,815,816,820,821,822,823,824,825,826,\n",
    "    830,831,832,833,834,835,840,841,842,845,846,850,851,952,853,854,855,\n",
    "    860,861,862,863,864,865,871,872,873,874,875,876,880,881,883,890,891,\n",
    "    892,893,895,896],\n",
    "    'transportation':[900,903,904,911,912,913,914,915,920,923,924,926,930,931,933,935,936,\n",
    "    941,942,951,952,956,960,961,962,963,964,965,972,974,975],\n",
    "    'military':[980,981,982,983]\n",
    "}"
   ]
  },
  {
   "cell_type": "code",
   "execution_count": 20,
   "metadata": {},
   "outputs": [],
   "source": [
    "# recoding offense as a categorical variable\n",
    "offense_vars = [94,96,98,100,102,115,117,119,121,123]\n",
    "for c in [\"V{:04}\".format(x) for x in offense_vars]:\n",
    "    for x, y in offense_codes.items():\n",
    "        df[c] = df[c].replace(y, x)"
   ]
  },
  {
   "cell_type": "code",
   "execution_count": 21,
   "metadata": {},
   "outputs": [],
   "source": [
    "# recoding occupations\n",
    "df.rename({'V1776':'OCCUPATION'}, axis='columns', inplace=True)\n",
    "for x, y in occupation_codes.items():\n",
    "        df['OCCUPATION'] = df['OCCUPATION'].replace(y, x)"
   ]
  },
  {
   "cell_type": "code",
   "execution_count": 22,
   "metadata": {},
   "outputs": [
    {
     "data": {
      "text/plain": [
       "(18185, 2991)"
      ]
     },
     "execution_count": 22,
     "metadata": {},
     "output_type": "execute_result"
    }
   ],
   "source": [
    "# remvoing colums with nothing but missing values\n",
    "for c in ['V1057', 'V1061']:\n",
    "    df[c] = df[c].replace(['97','98','99'], np.nan)\n",
    "df.dropna(axis='columns', how='all', inplace=True)\n",
    "df.shape"
   ]
  },
  {
   "cell_type": "code",
   "execution_count": 23,
   "metadata": {},
   "outputs": [],
   "source": [
    "# some other specifications to use later\n",
    "df_no_race = df.drop(columns=\"RACE\")\n",
    "df_fresh_yr = df.drop(df[df.CS_SENTENCEMTH > 12].index)"
   ]
  },
  {
   "cell_type": "markdown",
   "metadata": {},
   "source": [
    "## Target\n",
    "This part just works with the variables to use as targets and cleans them up a bit"
   ]
  },
  {
   "cell_type": "code",
   "execution_count": 24,
   "metadata": {},
   "outputs": [],
   "source": [
    "y = discipline.loc[:,targets.values()]\n",
    "y.rename(mapper=targets, axis='columns', inplace=True)"
   ]
  },
  {
   "cell_type": "code",
   "execution_count": 25,
   "metadata": {},
   "outputs": [],
   "source": [
    "y_cat = discipline.loc[:,[c for c in targets.values() if not re.search(r'^n_.*', c) and not c == 'recent_violations']]"
   ]
  },
  {
   "cell_type": "code",
   "execution_count": 26,
   "metadata": {},
   "outputs": [],
   "source": [
    "y_num = discipline.loc[:,[c for c in targets.values() if re.search(r'^n_.*', c) or c == 'recent_violations']]"
   ]
  },
  {
   "cell_type": "code",
   "execution_count": 27,
   "metadata": {},
   "outputs": [
    {
     "data": {
      "text/plain": [
       "0.0    10035\n",
       "1.0     8150\n",
       "dtype: int64"
      ]
     },
     "execution_count": 27,
     "metadata": {},
     "output_type": "execute_result"
    }
   ],
   "source": [
    "for c in y_num.columns:\n",
    "    y_num[c] = y_num[c].replace([97,98,99],np.nan)\n",
    "for c in y_cat.columns:\n",
    "    y_cat[c] = y_cat[c].replace([9,8,7,2],[np.nan,np.nan,np.nan,0])\n",
    "y_cat.head()\n",
    "violator = y_cat.fillna(0).max(axis='columns')\n",
    "violator.value_counts()"
   ]
  },
  {
   "cell_type": "code",
   "execution_count": 28,
   "metadata": {},
   "outputs": [
    {
     "data": {
      "text/plain": [
       "Index(['drugs', 'alcohol', 'weapon_poss', 'stolen_prop', 'poss_unauth',\n",
       "       'verbal_staff', 'phys_staff', 'verb_inmate', 'phys_inmate',\n",
       "       'att_escape', 'out_place', 'disobey_ord', 'maj_violation',\n",
       "       'minor_violation', 'other_violation'],\n",
       "      dtype='object')"
      ]
     },
     "execution_count": 28,
     "metadata": {},
     "output_type": "execute_result"
    }
   ],
   "source": [
    "y_cat.columns"
   ]
  },
  {
   "cell_type": "markdown",
   "metadata": {},
   "source": [
    "Our targets will be drug violations, assault on staff, assault on inmates, attempt to escape, other violations and the most recent violation."
   ]
  },
  {
   "cell_type": "markdown",
   "metadata": {},
   "source": [
    "We have an incredible number of possible features that ar enot named. to save on cleaning time we will look at the most correlated potential features and work on cleaning those so we don;t spend time on variables that we will not use. \n",
    "* correlation with preprison sentencing and custody level in prison\n",
    "* violations and levels of custody\n",
    "* correlations between punishments and violations\n",
    "* look at jail composition and the nature of violations\n",
    "\n"
   ]
  },
  {
   "cell_type": "markdown",
   "metadata": {},
   "source": [
    "## Pre Modelling"
   ]
  },
  {
   "cell_type": "code",
   "execution_count": 29,
   "metadata": {},
   "outputs": [],
   "source": [
    "# preprocessing\n",
    "from sklearn.model_selection import train_test_split\n",
    "\n",
    "# model imports\n",
    "from sklearn.ensemble import AdaBoostClassifier\n",
    "from sklearn.ensemble import GradientBoostingClassifier\n",
    "from sklearn.ensemble import RandomForestClassifier\n",
    "from sklearn.linear_model import LinearRegression\n",
    "from sklearn.linear_model import LogisticRegression\n",
    "from sklearn.naive_bayes import GaussianNB\n",
    "from sklearn.neighbors import KernelDensity\n",
    "from sklearn.neighbors import KNeighborsClassifier\n",
    "from sklearn.cluster import KMeans\n",
    "from sklearn.svm import SVC\n",
    "import lightgbm as lgb\n",
    "import xgboost\n",
    "\n",
    "# assessment\n",
    "from sklearn.model_selection import GridSearchCV\n",
    "from sklearn.metrics import confusion_matrix\n",
    "from sklearn.metrics import f1_score, classification_report, accuracy_score, mean_squared_error"
   ]
  },
  {
   "cell_type": "code",
   "execution_count": 30,
   "metadata": {},
   "outputs": [],
   "source": [
    "# CREDIT: SCIKIT LEARN DOCUMENTATION at https://scikit-learn.org/stable/auto_examples/model_selection/plot_confusion_matrix.html \n",
    "def plot_confusion_matrix(cm, classes,\n",
    "                          normalize=False,\n",
    "                          title='Confusion matrix',\n",
    "                          cmap=plt.cm.Blues):\n",
    "    \"\"\"\n",
    "    This function prints and plots the confusion matrix.\n",
    "    Normalization can be applied by setting `normalize=True`.\n",
    "    \"\"\"\n",
    "    if normalize:\n",
    "        cm = cm.astype('float') / cm.sum(axis=1)[:, np.newaxis]\n",
    "        print(\"Normalized confusion matrix\")\n",
    "    else:\n",
    "        print('Confusion matrix, without normalization')\n",
    "\n",
    "    print(cm)\n",
    "\n",
    "    plt.imshow(cm, interpolation='nearest', cmap=cmap)\n",
    "    plt.title(title)\n",
    "    plt.colorbar()\n",
    "    tick_marks = np.arange(len(classes))\n",
    "    plt.xticks(tick_marks, classes, rotation=45)\n",
    "    plt.yticks(tick_marks, classes)\n",
    "\n",
    "    fmt = '.2f' if normalize else 'd'\n",
    "    thresh = cm.max() / 2.\n",
    "    for i, j in itertools.product(range(cm.shape[0]), range(cm.shape[1])):\n",
    "        plt.text(j, i, format(cm[i, j], fmt),\n",
    "                 horizontalalignment=\"center\",\n",
    "                 color=\"white\" if cm[i, j] > thresh else \"black\")\n",
    "\n",
    "    plt.ylabel('True label')\n",
    "    plt.xlabel('Predicted label')\n",
    "    plt.tight_layout()"
   ]
  },
  {
   "cell_type": "markdown",
   "metadata": {},
   "source": [
    "# feature selection\n",
    "* find some variables that we think would be particualrly important\n",
    "* look for what the data tells us is important\n",
    "* use a combination of the 2 to determine which variables"
   ]
  },
  {
   "cell_type": "markdown",
   "metadata": {},
   "source": [
    "Just throwing it in a random forest and seeing what happens, we can use the importances "
   ]
  },
  {
   "cell_type": "code",
   "execution_count": 31,
   "metadata": {},
   "outputs": [
    {
     "data": {
      "text/plain": [
       "(18185, 266)"
      ]
     },
     "execution_count": 31,
     "metadata": {},
     "output_type": "execute_result"
    }
   ],
   "source": [
    "# this is will just be using the named variables as we filtered through and named the ones that weren't alreayd\n",
    "named_cols = [c for c in df.columns if not re.search(r'^V\\d{4}', c)]\n",
    "named = df[named_cols]\n",
    "named.shape"
   ]
  },
  {
   "cell_type": "code",
   "execution_count": 32,
   "metadata": {},
   "outputs": [],
   "source": [
    "# we spent much time accounting for the missing values in the analysis variables so we feel comfortable \n",
    "# filling in a 0 here. We dropped the other ones where another value would be more appropriate\n",
    "named_train, named_test, violator_train, violator_test = train_test_split(pd.get_dummies(named.fillna(0)),\n",
    "                                                                          violator.fillna(0), random_state=seed) # y_cat['alcohol']"
   ]
  },
  {
   "cell_type": "code",
   "execution_count": 33,
   "metadata": {},
   "outputs": [],
   "source": [
    "named_rf = RandomForestClassifier(n_estimators=10000, criterion='gini', max_depth=20,\n",
    "                            bootstrap=True, max_features=50,\n",
    "                            verbose=1, n_jobs=-1, random_state=seed)"
   ]
  },
  {
   "cell_type": "code",
   "execution_count": 34,
   "metadata": {},
   "outputs": [
    {
     "name": "stderr",
     "output_type": "stream",
     "text": [
      "[Parallel(n_jobs=-1)]: Using backend ThreadingBackend with 8 concurrent workers.\n",
      "[Parallel(n_jobs=-1)]: Done  34 tasks      | elapsed:    1.2s\n",
      "[Parallel(n_jobs=-1)]: Done 184 tasks      | elapsed:    5.2s\n",
      "[Parallel(n_jobs=-1)]: Done 434 tasks      | elapsed:   12.4s\n",
      "[Parallel(n_jobs=-1)]: Done 784 tasks      | elapsed:   22.5s\n",
      "[Parallel(n_jobs=-1)]: Done 1234 tasks      | elapsed:   35.9s\n",
      "[Parallel(n_jobs=-1)]: Done 1784 tasks      | elapsed:  1.1min\n",
      "[Parallel(n_jobs=-1)]: Done 2434 tasks      | elapsed:  1.7min\n",
      "[Parallel(n_jobs=-1)]: Done 3184 tasks      | elapsed:  2.6min\n",
      "[Parallel(n_jobs=-1)]: Done 4034 tasks      | elapsed:  3.5min\n",
      "[Parallel(n_jobs=-1)]: Done 4984 tasks      | elapsed: 19.8min\n",
      "[Parallel(n_jobs=-1)]: Done 6034 tasks      | elapsed: 20.2min\n",
      "[Parallel(n_jobs=-1)]: Done 7184 tasks      | elapsed: 20.7min\n",
      "[Parallel(n_jobs=-1)]: Done 8434 tasks      | elapsed: 21.2min\n",
      "[Parallel(n_jobs=-1)]: Done 9784 tasks      | elapsed: 21.7min\n",
      "[Parallel(n_jobs=-1)]: Done 10000 out of 10000 | elapsed: 21.8min finished\n"
     ]
    },
    {
     "data": {
      "text/plain": [
       "RandomForestClassifier(bootstrap=True, class_weight=None, criterion='gini',\n",
       "            max_depth=20, max_features=50, max_leaf_nodes=None,\n",
       "            min_impurity_decrease=0.0, min_impurity_split=None,\n",
       "            min_samples_leaf=1, min_samples_split=2,\n",
       "            min_weight_fraction_leaf=0.0, n_estimators=10000, n_jobs=-1,\n",
       "            oob_score=False, random_state=17, verbose=1, warm_start=False)"
      ]
     },
     "execution_count": 34,
     "metadata": {},
     "output_type": "execute_result"
    }
   ],
   "source": [
    "# using just the named columns\n",
    "named_rf.fit(pd.get_dummies(named_train.fillna(0)),violator_train.fillna(0))"
   ]
  },
  {
   "cell_type": "code",
   "execution_count": 35,
   "metadata": {},
   "outputs": [
    {
     "name": "stdout",
     "output_type": "stream",
     "text": [
      "SES_PERP_SEX_KNOWN : 0.056687995716863324\n",
      "MCMH_MENTAL_HISTORY : 0.047873120487242536\n",
      "SES_AGEPERP_PHYSSEXABUSED : 0.042675629635871494\n",
      "id : 0.04144092637912701\n",
      "SES_OFF_RAPED : 0.024333194001448892\n",
      "DRUG_METHAMP_TMEINF : 0.019420032156535153\n",
      "MCMH_MH_DRUGS_PA : 0.017638177186059912\n",
      "DRUG_OTHERDRUG_TMEINF : 0.015628368530838998\n",
      "DRUG_METHAQ_TMEINF : 0.015208054183580625\n",
      "arrest_month : 0.011867455336268639\n",
      "prison_type : 0.011228359587628368\n",
      "CO_PROBVIOLATION : 0.010976144995608927\n",
      "marital_status : 0.010383768640594761\n",
      "CH_PROBATION_NUM : 0.00919184631650762\n",
      "DRUG_OPIATES_TMEINF : 0.009086618740138965\n",
      "SES_SEXABUSED_EVER : 0.00805156550748009\n",
      "MCMH_MH_TREATMENT_PA : 0.00797662101044638\n",
      "VETERAN : 0.007666277352400259\n",
      "SES_PHYSSEXABUSED_EVER : 0.007603655499839499\n",
      "crim_just_status : 0.007496276804411515\n",
      "MCMH_SURGERY : 0.006718474051263283\n",
      "CH_INCARCERATION_NUM : 0.0063702258853513055\n",
      "SES_AGEOFF_PHYSSEXABUSED : 0.006233233365406716\n",
      "DRUG_HALUREG : 0.004999079662567535\n",
      "TYPEOFFENSE : 0.0048896119663013\n",
      "DRUG_INHALMTH : 0.004861690423241389\n",
      "IC_WEAPON_TOY_BBGUN : 0.0048345610663759015\n",
      "DRUG_HEROINMTH_CB : 0.004830050078742227\n",
      "DRUG_MARIJTME : 0.004599990583512441\n",
      "IC_ONEVICT_RELATIONSHIP : 0.004446436184613421\n",
      "DRUG_DEPENDENCE_OR_ABUSE : 0.0041743067752900926\n",
      "DRUG_HEROIN_CB : 0.004148249662492359\n",
      "DRUG_HALLU : 0.004038927455272223\n",
      "SES_CHILD_INCARCERATED : 0.004031618562014893\n",
      "OFFENSE_DRUG : 0.00402373888399363\n",
      "DRUG_HEROINREG_CB : 0.003966288530894213\n",
      "crim_stat_arrest : 0.0038071561420504286\n",
      "MCMH_DOCTOR : 0.003794318660160578\n",
      "DRUG_DEPENDENCE_ONLY : 0.0035592520496351247\n",
      "SES_PHYSABUSED_EVER : 0.003452642057688502\n",
      "OFFENSE_PUBLICORDER : 0.003414204791572559\n",
      "CH_CRIMHIST_COLLAPSED : 0.0033710794792153314\n",
      "CH_PRIORSENTENCE : 0.003199531248544343\n",
      "DRUG_DEPENDENCE_IMPAIRED : 0.0031990963415239803\n",
      "DRUG_NUMPOS_CAGE_COLLAPSED : 0.0030978590242324673\n",
      "MCMH_TB : 0.003084490877342386\n",
      "DRUG_ANYREG : 0.0030807153532993498\n",
      "MCMH_HIVTEST : 0.0030725900906483673\n",
      "DRUG_NUMPOS_CAGE : 0.003012383974612973\n",
      "DRUG_COCAINEMTH_CB : 0.003010583461247038\n",
      "SES_HASCHILDREN : 0.0030052175049717364\n",
      "CO_CURRENTOFFENSE : 0.0029818256241182913\n",
      "MCMH_RSLT_HIV : 0.0029670539840708425\n",
      "DRUG_DEPENDENCE_TOLERANCE : 0.002959258395890178\n",
      "CS_INCDA : 0.002941324849977466\n",
      "DRUG_BARBMTH_CB : 0.0029075054063035784\n",
      "black : 0.002899849014455927\n",
      "born_us : 0.0028766318180482174\n",
      "SEX_OFFENDER : 0.0028592857312065146\n",
      "MONEY_FOR_DRUGS : 0.00280381035919417\n",
      "DRUG_DEPENDENCE_SYMPTOMS_CAT : 0.0028020879016109612\n",
      "SES_PARENTS_INCARCERATED : 0.002790624585846909\n",
      "CH_PRIORSENTENCE_NUM : 0.002788601348992997\n",
      "MCMH_PRESCRIP_MEDS_ARREST : 0.002787866322478364\n",
      "DRUG_HIERARCHY2 : 0.0027867934511794272\n",
      "DRUG_DEPENDENCE : 0.002761276178450724\n",
      "white : 0.002734858645318509\n",
      "CS_SENTENCEMTH : 0.0026770342137805974\n",
      "DRUG_COCRK : 0.0026142831630099773\n",
      "hispanic : 0.0025287574318845775\n",
      "DRUG_METHAMTH : 0.002516358764692152\n",
      "SES_SPOUSE_INCARCERATED : 0.0025102199366517407\n",
      "MCMH_CURRENT_MEDICAL : 0.0024990562964870085\n",
      "DRUG_ANYTME : 0.0024836858326733003\n",
      "mth_int_arr : 0.0024652239857490474\n",
      "DRUG_METHATME : 0.002440543016916792\n",
      "CITIZENSHIP : 0.00240608826834858\n",
      "SES_FAMILY_INCARCERATED : 0.002394791029354032\n",
      "DRUG_METHAM : 0.002340163035450831\n",
      "DRUG_HALUTME : 0.002316457040327334\n",
      "DRUG_HROPTME : 0.002301551332912651\n",
      "SES_IMEDFAMILY_INCARCERATED : 0.0022796829729868837\n",
      "DRUG_DEPENDENCE_WITHDRAWAL : 0.0022754010347930194\n",
      "IC_WEAPON_FIREARM : 0.002253354216050421\n",
      "MCMH_MH_TREATMENT_AD : 0.0022449932535291003\n",
      "DRUG_AMPH_TMEINF : 0.0021954206189291037\n",
      "CH_CRIM_HISTORY : 0.002194814894576192\n",
      "MCMH_WHEN_DISORDER2 : 0.002177618316792717\n",
      "DRUG_ANYTRT : 0.002159663575934131\n",
      "CO_PAROLEVIOLATION : 0.002135368493635286\n",
      "SES_INCOMESSI : 0.0021340879188055362\n",
      "DRUG_CRACK_TMEINF : 0.0021263848474578962\n",
      "SES_NUMOFMINOR_CHILDREN : 0.0021121957201058576\n",
      "CO_UNSENTENCED : 0.002094006503500227\n",
      "DRUG_PCP_TMEINF : 0.0020427806434117402\n",
      "MOST_SERIOUS_OFFENSE2 : 0.002034976138962477\n",
      "DRUG_ANY : 0.001967928712487055\n",
      "DRUG_FIGHT_ALCDRUG : 0.0019486353831420246\n",
      "DRUG_OTHERDRUG_CB : 0.001937477695606614\n",
      "DRUG_HALLU_TMEINF : 0.0019291763676244213\n",
      "military_service : 0.0019061911690622534\n",
      "DRUG_TRPPRBDRUG : 0.0019057613048856109\n",
      "RACE : 0.00189583689159866\n",
      "DRUG_COCRKTME : 0.0018922044165063795\n",
      "OFFENSE_VIOLENT : 0.0018872139345872175\n",
      "MCMH_MH_DRUG_PRISON : 0.0018695471003149795\n",
      "OCCUPATION : 0.001864288271072898\n",
      "DRUG_COCAINE_TMEINF : 0.0018448092968862074\n",
      "DRUG_DEPTME : 0.0018292310546844394\n",
      "DRUG_STIMTME : 0.0018285364037658092\n",
      "DRUG_MARIJ_CB : 0.0018249168659180107\n",
      "DRUG_STIMU : 0.0018142821011342687\n",
      "MCMH_WHEN_DISORDER : 0.0017976666897891417\n",
      "DRUG_METHAMP_CB : 0.0017902329408058548\n",
      "SES_BROTHER_INCARCERATED : 0.0017893039209395997\n",
      "DRUG_DEPENDENCE_CONTINUED_USE : 0.001787355265705901\n",
      "CH_PRIORARREST_CAT : 0.001785415820133717\n",
      "DRUG_DEPENDENCE_AND_ABUSE : 0.001779107599623816\n",
      "CS_DRUG_TREATMENT : 0.0017715266940463148\n",
      "DRUG_CRACKMTH_CB : 0.0017713579993473083\n",
      "DRUG_METHAQMTH_CB : 0.0017550006440311104\n",
      "DRUG_COCRKREG : 0.0017526919755293318\n",
      "DRUG_ABUSE_SYMPTOMS : 0.0017317476655924122\n",
      "IC_WEAPON_OTHER : 0.0017306942031377985\n",
      "DRUG_ANYPGM : 0.0017130827561035692\n",
      "IC_MANYVICT_KNOWNVICT : 0.0016944477227970505\n",
      "DRUG_MARIJREG_CB : 0.0016912621110379096\n",
      "DRUG_ABUSE_OBLIGATIONS : 0.001657848798947089\n",
      "IC_WEAPON_OTHERSHARP : 0.0016327652662973585\n",
      "CO_STATUSTME : 0.0016167368873744642\n",
      "SES_LIVEDGROWINGUP : 0.001607166411639454\n",
      "IC_ONEVICT_HISPANIC : 0.0015755462588631576\n",
      "DRUG_METHAMREG : 0.0015571482487404269\n",
      "DRUG_AMPHMTH_CB : 0.0015565203935568284\n",
      "SES_FATHER_INCARCERATED : 0.0015385433468348953\n",
      "DRUG_AMPH_CB : 0.0015166217281407774\n",
      "SES_MOTHER_INCARCERATED : 0.0015140275625588377\n",
      "IC_WEAPON_KNIFE : 0.0015124873159460437\n",
      "DRUG_ABUSE_ONLY : 0.001506196638920696\n",
      "DRUG_HALLUREG_CB : 0.0015035653821773311\n",
      "OFFENSE_PROPERTY : 0.0014975816860060662\n",
      "DRUG_DISPUTES_ALCDRUG : 0.0014975236613681546\n",
      "DRUG_ALCYEAR_FREQ : 0.0014900446977791429\n",
      "DRUG_HALUMTH : 0.0014894823813441987\n",
      "DRUG_ANY_ALCDRUGTME : 0.001477061744992175\n",
      "DRUG_ABUSE_HAZARDOUS : 0.0014637105398175242\n",
      "IC_ONEVICT_RACE : 0.0014467770204145494\n",
      "CO_NEWCOURTCOMMIT : 0.001446775522084864\n",
      "SES_NUMOFADULT_CHILDREN : 0.0014411453858933642\n",
      "IC_ONEVICT_AGECAT : 0.0014365229619194156\n",
      "IC_WEAPON_BLUNT : 0.0014301120532317568\n",
      "native_american : 0.00141364984597268\n",
      "DRUG_ARRESTED_ALCDRUG : 0.0014095473504763599\n",
      "life_sentence : 0.0013912996534422605\n",
      "IC_ONEVICT_GENDER : 0.001379082732734875\n",
      "DRUG_ANYMTH : 0.0013717776297416328\n",
      "SES_SISTER_INCARCERATED : 0.0013639899975771777\n",
      "DRUG_CARACCIDENT_ALCDRUG : 0.0013523879352762454\n",
      "DRUG_TRANQMTH_CB : 0.0013434050714952871\n",
      "DRUG_DEPENDENCE_OR_ABUSE_NONE : 0.0013265474805853128\n",
      "DRUG_DROVE_DRUG : 0.0012969504962867754\n",
      "DRUG_STIMREG : 0.001282155747395505\n",
      "AGE_CAT : 0.0012787771395713348\n",
      "MCMH_DIABETES : 0.0012776724869509018\n",
      "DRUG_DROVE_ALCDRUG : 0.001271237692759133\n"
     ]
    }
   ],
   "source": [
    "named_sorted_x = sorted({x:y for x, y in zip(named.columns, named_rf.feature_importances_)}.items(), key=operator.itemgetter(1))\n",
    "for x, y in named_sorted_x[:100:-1]:\n",
    "    print(x, ':', y)"
   ]
  },
  {
   "cell_type": "markdown",
   "metadata": {},
   "source": [
    "We used this list to determine which variables to use and which ones might be worth looking deeper into"
   ]
  },
  {
   "cell_type": "markdown",
   "metadata": {},
   "source": [
    "The fact that time served is the most important means that we aren't really doing a good job of identifying the characteristics that make someone a violator of prison rules. finding some way to get around the fact that people simply break rules if they have been in prison longer would be important\n",
    "maybe ration of violation nuber to time served oir subsetting the data to those recently entered into prison."
   ]
  },
  {
   "cell_type": "code",
   "execution_count": 36,
   "metadata": {},
   "outputs": [
    {
     "name": "stderr",
     "output_type": "stream",
     "text": [
      "[Parallel(n_jobs=8)]: Using backend ThreadingBackend with 8 concurrent workers.\n",
      "[Parallel(n_jobs=8)]: Done  34 tasks      | elapsed:    0.1s\n",
      "[Parallel(n_jobs=8)]: Done 184 tasks      | elapsed:    0.2s\n",
      "[Parallel(n_jobs=8)]: Done 434 tasks      | elapsed:    0.5s\n",
      "[Parallel(n_jobs=8)]: Done 784 tasks      | elapsed:    1.0s\n",
      "[Parallel(n_jobs=8)]: Done 1234 tasks      | elapsed:    1.7s\n",
      "[Parallel(n_jobs=8)]: Done 1784 tasks      | elapsed:    2.4s\n",
      "[Parallel(n_jobs=8)]: Done 2434 tasks      | elapsed:    3.2s\n",
      "[Parallel(n_jobs=8)]: Done 3184 tasks      | elapsed:    4.1s\n",
      "[Parallel(n_jobs=8)]: Done 4034 tasks      | elapsed:    5.1s\n",
      "[Parallel(n_jobs=8)]: Done 4984 tasks      | elapsed:    6.2s\n",
      "[Parallel(n_jobs=8)]: Done 6034 tasks      | elapsed:    7.4s\n",
      "[Parallel(n_jobs=8)]: Done 7184 tasks      | elapsed:    8.6s\n",
      "[Parallel(n_jobs=8)]: Done 8434 tasks      | elapsed:   10.0s\n",
      "[Parallel(n_jobs=8)]: Done 9784 tasks      | elapsed:   11.4s\n",
      "[Parallel(n_jobs=8)]: Done 10000 out of 10000 | elapsed:   11.6s finished\n"
     ]
    },
    {
     "name": "stdout",
     "output_type": "stream",
     "text": [
      "0.9991858003582478\n"
     ]
    },
    {
     "name": "stderr",
     "output_type": "stream",
     "text": [
      "[Parallel(n_jobs=8)]: Using backend ThreadingBackend with 8 concurrent workers.\n",
      "[Parallel(n_jobs=8)]: Done  34 tasks      | elapsed:    0.0s\n",
      "[Parallel(n_jobs=8)]: Done 184 tasks      | elapsed:    0.1s\n",
      "[Parallel(n_jobs=8)]: Done 434 tasks      | elapsed:    0.2s\n",
      "[Parallel(n_jobs=8)]: Done 784 tasks      | elapsed:    0.4s\n",
      "[Parallel(n_jobs=8)]: Done 1234 tasks      | elapsed:    0.6s\n",
      "[Parallel(n_jobs=8)]: Done 1784 tasks      | elapsed:    0.8s\n",
      "[Parallel(n_jobs=8)]: Done 2434 tasks      | elapsed:    1.1s\n",
      "[Parallel(n_jobs=8)]: Done 3184 tasks      | elapsed:    1.5s\n",
      "[Parallel(n_jobs=8)]: Done 4034 tasks      | elapsed:    1.9s\n",
      "[Parallel(n_jobs=8)]: Done 4984 tasks      | elapsed:    2.3s\n",
      "[Parallel(n_jobs=8)]: Done 6034 tasks      | elapsed:    2.7s\n",
      "[Parallel(n_jobs=8)]: Done 7184 tasks      | elapsed:    3.3s\n",
      "[Parallel(n_jobs=8)]: Done 8434 tasks      | elapsed:    3.8s\n"
     ]
    },
    {
     "name": "stdout",
     "output_type": "stream",
     "text": [
      "0.6570972886762361\n"
     ]
    },
    {
     "name": "stderr",
     "output_type": "stream",
     "text": [
      "[Parallel(n_jobs=8)]: Done 9784 tasks      | elapsed:    4.4s\n",
      "[Parallel(n_jobs=8)]: Done 10000 out of 10000 | elapsed:    4.5s finished\n"
     ]
    }
   ],
   "source": [
    "print(f1_score(y_true=violator_train.fillna(0),\n",
    "      y_pred=named_rf.predict(pd.get_dummies(named_train).fillna(0))))\n",
    "print(f1_score(violator_test.fillna(0), named_rf.predict(pd.get_dummies(named_test).fillna(0))))"
   ]
  },
  {
   "cell_type": "code",
   "execution_count": 37,
   "metadata": {},
   "outputs": [
    {
     "name": "stderr",
     "output_type": "stream",
     "text": [
      "[Parallel(n_jobs=8)]: Using backend ThreadingBackend with 8 concurrent workers.\n",
      "[Parallel(n_jobs=8)]: Done  34 tasks      | elapsed:    0.0s\n",
      "[Parallel(n_jobs=8)]: Done 184 tasks      | elapsed:    0.1s\n",
      "[Parallel(n_jobs=8)]: Done 434 tasks      | elapsed:    0.2s\n",
      "[Parallel(n_jobs=8)]: Done 784 tasks      | elapsed:    0.4s\n",
      "[Parallel(n_jobs=8)]: Done 1234 tasks      | elapsed:    0.6s\n",
      "[Parallel(n_jobs=8)]: Done 1784 tasks      | elapsed:    0.8s\n",
      "[Parallel(n_jobs=8)]: Done 2434 tasks      | elapsed:    1.1s\n",
      "[Parallel(n_jobs=8)]: Done 3184 tasks      | elapsed:    1.5s\n",
      "[Parallel(n_jobs=8)]: Done 4034 tasks      | elapsed:    1.8s\n",
      "[Parallel(n_jobs=8)]: Done 4984 tasks      | elapsed:    2.3s\n",
      "[Parallel(n_jobs=8)]: Done 6034 tasks      | elapsed:    2.7s\n",
      "[Parallel(n_jobs=8)]: Done 7184 tasks      | elapsed:    3.3s\n",
      "[Parallel(n_jobs=8)]: Done 8434 tasks      | elapsed:    3.8s\n",
      "[Parallel(n_jobs=8)]: Done 9784 tasks      | elapsed:    4.4s\n",
      "[Parallel(n_jobs=8)]: Done 10000 out of 10000 | elapsed:    4.5s finished\n"
     ]
    },
    {
     "name": "stdout",
     "output_type": "stream",
     "text": [
      "Confusion matrix, without normalization\n",
      "[[2021  522]\n",
      " [ 768 1236]]\n"
     ]
    },
    {
     "data": {
      "image/png": "[encoded data removed]",
      "text/plain": [
       "<Figure size 432x288 with 2 Axes>"
      ]
     },
     "metadata": {},
     "output_type": "display_data"
    }
   ],
   "source": [
    "plot_confusion_matrix(confusion_matrix(violator_test.fillna(0),\n",
    "                                       named_rf.predict(pd.get_dummies(named_test).fillna(0))),\n",
    "                     ['broke rules', 'did not break rules'])"
   ]
  },
  {
   "cell_type": "markdown",
   "metadata": {},
   "source": [
    "## Modelling"
   ]
  },
  {
   "cell_type": "code",
   "execution_count": 38,
   "metadata": {},
   "outputs": [
    {
     "name": "stdout",
     "output_type": "stream",
     "text": [
      "              precision    recall  f1-score   support\n",
      "\n",
      "         0.0       0.64      0.75      0.69      2543\n",
      "         1.0       0.60      0.47      0.53      2004\n",
      "\n",
      "   micro avg       0.63      0.63      0.63      4547\n",
      "   macro avg       0.62      0.61      0.61      4547\n",
      "weighted avg       0.62      0.63      0.62      4547\n",
      "\n"
     ]
    }
   ],
   "source": [
    "# some basic models\n",
    "logit = LogisticRegression(solver='lbfgs', multi_class='auto', max_iter=1500)\n",
    "logit.fit(named_train, violator_train)\n",
    "print(classification_report(violator_test, logit.predict(named_test)))"
   ]
  },
  {
   "cell_type": "code",
   "execution_count": 39,
   "metadata": {},
   "outputs": [],
   "source": [
    "# this is a function to repeat the process with the different types of violations\n",
    "def run_specs(model, model_name, target_val,):\n",
    "    current_job = \"Current job: \" + model_name + \", Target: \" + target_val\n",
    "    print(current_job)\n",
    "    \n",
    "    #runs model\n",
    "    named_train, named_test, violator_train, violator_test = train_test_split(pd.get_dummies(named.fillna(0)),\n",
    "                                                                          y_cat[target_val].fillna(0), random_state=seed) \n",
    "    model.fit(pd.get_dummies(named_train.fillna(0)),violator_train.fillna(0))\n",
    "     \n",
    "    #prints f1 score\n",
    "    print(f1_score(y_true=violator_train.fillna(0),\n",
    "                   y_pred=model.predict(pd.get_dummies(named_train).fillna(0))))\n",
    "    print(f1_score(violator_test.fillna(0), \n",
    "                   model.predict(pd.get_dummies(named_test).fillna(0))))\n",
    "    \n",
    "    #creates confusion matrix\n",
    "    cf_title = \"Confusion Matrix: \" + model_name + \" Target: \" + target_val\n",
    "    plot_confusion_matrix(confusion_matrix(violator_test.fillna(0),\n",
    "                                       model.predict(pd.get_dummies(named_test).fillna(0))), \n",
    "                          ['broke rules', 'did not break rules'], title = cf_title)"
   ]
  },
  {
   "cell_type": "code",
   "execution_count": 40,
   "metadata": {},
   "outputs": [],
   "source": [
    "#defines models to be used:\n",
    "ada_boost = AdaBoostClassifier()\n",
    "nb = GaussianNB()\n",
    "kde = KernelDensity()\n",
    "k_means = KMeans()\n",
    "k_nn = KNeighborsClassifier()\n",
    "rf = RandomForestClassifier()\n",
    "gradient_boost = GradientBoostingClassifier()\n",
    "xgb = xgboost.XGBClassifier()"
   ]
  },
  {
   "cell_type": "code",
   "execution_count": 41,
   "metadata": {},
   "outputs": [],
   "source": [
    "#doesn't work for other models \n",
    "#for i in y_cat.columns:\n",
    "#    run_specs(k_nn, \"k_means\", i)"
   ]
  },
  {
   "cell_type": "code",
   "execution_count": 42,
   "metadata": {},
   "outputs": [],
   "source": [
    "def gridsearching(model, X_train, X_test, y_train, y_test):\n",
    "    #fits the chosen model to the data\n",
    "   model.fit(X_train, y_train)\n",
    "    #ouputs best parameters\n",
    "   print(\"Best Params: {}\".format(model.best_params_))\n",
    "   y_pred_train = model.predict(X_train)\n",
    "   print(\"Train F1: {}\".format(f1_score(y_train, y_pred_train, average=\"macro\")))\n",
    "   print(\"Test Classification Report:\")\n",
    "   y_pred_test = model.predict(X_test)\n",
    "    #presents classification scores\n",
    "   print(classification_report(y_test, y_pred_test))\n",
    "   print(\"Train Accuracy: {}\\tTest accuracy: {}\".format(accuracy_score(y_train, y_pred_train),\n",
    "                                                    accuracy_score(y_test, y_pred_test)))"
   ]
  },
  {
   "cell_type": "code",
   "execution_count": 43,
   "metadata": {},
   "outputs": [
    {
     "name": "stdout",
     "output_type": "stream",
     "text": [
      "Best Params: {'max_depth': 6, 'n_estimators': 100}\n",
      "Train F1: 0.6897555626777889\n",
      "Test Classification Report:\n",
      "              precision    recall  f1-score   support\n",
      "\n",
      "         0.0       0.68      0.81      0.74      2543\n",
      "         1.0       0.68      0.52      0.59      2004\n",
      "\n",
      "   micro avg       0.68      0.68      0.68      4547\n",
      "   macro avg       0.68      0.67      0.67      4547\n",
      "weighted avg       0.68      0.68      0.68      4547\n",
      "\n",
      "Train Accuracy: 0.7028889866549347\tTest accuracy: 0.6828678249395206\n"
     ]
    }
   ],
   "source": [
    "# random forest\n",
    "gs_params = GridSearchCV(rf, {'max_depth': [4,5,6], 'n_estimators': [100,150,200]}, scoring=\"f1_macro\", cv=5)\n",
    "gridsearching(gs_params, named_train, named_test, violator_train, violator_test)"
   ]
  },
  {
   "cell_type": "code",
   "execution_count": 44,
   "metadata": {
    "scrolled": true
   },
   "outputs": [
    {
     "name": "stdout",
     "output_type": "stream",
     "text": [
      "Best Params: {'leaf_size': 25, 'n_neighbors': 7, 'p': 2}\n",
      "Train F1: 0.7391472931334806\n",
      "Test Classification Report:\n",
      "              precision    recall  f1-score   support\n",
      "\n",
      "         0.0       0.69      0.72      0.70      2543\n",
      "         1.0       0.62      0.58      0.60      2004\n",
      "\n",
      "   micro avg       0.66      0.66      0.66      4547\n",
      "   macro avg       0.65      0.65      0.65      4547\n",
      "weighted avg       0.66      0.66      0.66      4547\n",
      "\n",
      "Train Accuracy: 0.743437454172166\tTest accuracy: 0.6582361996921047\n"
     ]
    }
   ],
   "source": [
    "# k nearest neighbours\n",
    "gs_params = GridSearchCV(k_nn, {'n_neighbors': [5,7], 'leaf_size': [25,30], 'p':[2]}, scoring=\"f1_macro\", cv=5)\n",
    "gridsearching(gs_params, named_train, named_test, violator_train, violator_test)"
   ]
  },
  {
   "cell_type": "code",
   "execution_count": 45,
   "metadata": {},
   "outputs": [
    {
     "name": "stdout",
     "output_type": "stream",
     "text": [
      "Best Params: {'learning_rate': 0.1, 'max_depth': 1, 'n_estimators': 100}\n",
      "Train F1: 0.6908117413854238\n",
      "Test Classification Report:\n",
      "              precision    recall  f1-score   support\n",
      "\n",
      "         0.0       0.70      0.78      0.74      2543\n",
      "         1.0       0.68      0.59      0.63      2004\n",
      "\n",
      "   micro avg       0.69      0.69      0.69      4547\n",
      "   macro avg       0.69      0.68      0.68      4547\n",
      "weighted avg       0.69      0.69      0.69      4547\n",
      "\n",
      "Train Accuracy: 0.6997360316761989\tTest accuracy: 0.6934242357598417\n"
     ]
    }
   ],
   "source": [
    "# gradient boost\n",
    "gs_params = GridSearchCV(gradient_boost, {\"learning_rate\": [.1], \"n_estimators\": [100,], \n",
    "                                'max_depth': [1]}, scoring='f1_macro', cv=5)\n",
    "gridsearching(gs_params, named_train, named_test, violator_train, violator_test)"
   ]
  },
  {
   "cell_type": "code",
   "execution_count": 46,
   "metadata": {},
   "outputs": [
    {
     "name": "stdout",
     "output_type": "stream",
     "text": [
      "              precision    recall  f1-score   support\n",
      "\n",
      "         0.0       0.65      0.77      0.70      2543\n",
      "         1.0       0.62      0.46      0.53      2004\n",
      "\n",
      "   micro avg       0.64      0.64      0.64      4547\n",
      "   macro avg       0.63      0.62      0.62      4547\n",
      "weighted avg       0.63      0.64      0.63      4547\n",
      "\n"
     ]
    }
   ],
   "source": [
    "# no tuning necessary for naive bayes\n",
    "nb.fit(named_train, violator_train)\n",
    "print(classification_report(violator_test, nb.predict(named_test)))"
   ]
  },
  {
   "cell_type": "code",
   "execution_count": 47,
   "metadata": {
    "scrolled": true
   },
   "outputs": [
    {
     "name": "stdout",
     "output_type": "stream",
     "text": [
      "Best Params: {'learning_rate': 0.9, 'n_estimators': 125}\n",
      "Train F1: 0.7175098829652535\n",
      "Test Classification Report:\n",
      "              precision    recall  f1-score   support\n",
      "\n",
      "         0.0       0.74      0.76      0.75      2543\n",
      "         1.0       0.69      0.66      0.67      2004\n",
      "\n",
      "   micro avg       0.72      0.72      0.72      4547\n",
      "   macro avg       0.71      0.71      0.71      4547\n",
      "weighted avg       0.72      0.72      0.72      4547\n",
      "\n",
      "Train Accuracy: 0.7222466637336853\tTest accuracy: 0.7176160105564108\n"
     ]
    }
   ],
   "source": [
    "# ada\n",
    "gs_params = GridSearchCV(ada_boost, {\"n_estimators\": [75,100,125], 'learning_rate': [0.85,0.9,0.95]},\n",
    "                         scoring='f1_macro', cv=5, )\n",
    "gridsearching(gs_params, named_train, named_test, violator_train, violator_test)"
   ]
  },
  {
   "cell_type": "code",
   "execution_count": 48,
   "metadata": {},
   "outputs": [
    {
     "name": "stdout",
     "output_type": "stream",
     "text": [
      "Best Params: {'learning_rate': 0.9, 'n_estimators': 25, 'n_jobs': -1, 'subsample': 0.75}\n",
      "Train F1: 0.735200644729828\n",
      "Test Classification Report:\n",
      "              precision    recall  f1-score   support\n",
      "\n",
      "         0.0       0.73      0.74      0.74      2543\n",
      "         1.0       0.67      0.66      0.66      2004\n",
      "\n",
      "   micro avg       0.70      0.70      0.70      4547\n",
      "   macro avg       0.70      0.70      0.70      4547\n",
      "weighted avg       0.70      0.70      0.70      4547\n",
      "\n",
      "Train Accuracy: 0.7388180085056459\tTest accuracy: 0.7039806465801628\n"
     ]
    }
   ],
   "source": [
    "# xgb\n",
    "gs_params = GridSearchCV(xgb, {\"n_estimators\": [20, 25], 'learning_rate': [0.9,0.95],\n",
    "                               'subsample':[0.75], 'n_jobs':[-1]},\n",
    "                         scoring='f1_macro', cv=5)\n",
    "gridsearching(gs_params, named_train, named_test, violator_train, violator_test)"
   ]
  },
  {
   "cell_type": "code",
   "execution_count": 50,
   "metadata": {},
   "outputs": [
    {
     "data": {
      "text/plain": [
       "XGBClassifier(base_score=0.5, booster='gbtree', colsample_bylevel=1,\n",
       "       colsample_bytree=1, gamma=0, learning_rate=0.9, max_delta_step=0,\n",
       "       max_depth=3, min_child_weight=1, missing=None, n_estimators=25,\n",
       "       n_jobs=-1, nthread=None, objective='binary:logistic',\n",
       "       random_state=0, reg_alpha=0, reg_lambda=1, scale_pos_weight=1,\n",
       "       seed=None, silent=True, subsample=0.75)"
      ]
     },
     "execution_count": 50,
     "metadata": {},
     "output_type": "execute_result"
    }
   ],
   "source": [
    "# saving best models for use later\n",
    "best_xgb = xgboost.XGBClassifier(learning_rate=0.9, n_estimators=25, subsample=0.75, n_jobs=-1)\n",
    "best_ada = AdaBoostClassifier(learning_rate=0.9, n_estimators=125)\n",
    "best_ada.fit(named_train, violator_train)\n",
    "best_xgb.fit(named_train, violator_train)\n"
   ]
  },
  {
   "cell_type": "markdown",
   "metadata": {},
   "source": [
    "## Visualization"
   ]
  },
  {
   "cell_type": "code",
   "execution_count": 51,
   "metadata": {},
   "outputs": [
    {
     "data": {
      "text/plain": [
       "<module 'matplotlib.pyplot' from '/Users/branchflower/anaconda3/lib/python3.6/site-packages/matplotlib/pyplot.py'>"
      ]
     },
     "execution_count": 51,
     "metadata": {},
     "output_type": "execute_result"
    },
    {
     "data": {
      "image/png": "[encoded data removed]",
      "text/plain": [
       "<Figure size 432x288 with 1 Axes>"
      ]
     },
     "metadata": {},
     "output_type": "display_data"
    },
    {
     "data": {
      "image/png": "[encoded data removed]",
      "text/plain": [
       "<Figure size 432x288 with 1 Axes>"
      ]
     },
     "metadata": {},
     "output_type": "display_data"
    }
   ],
   "source": [
    "# CREDIT SCIKITLEARN DOCS: https://scikit-learn.org/stable/auto_examples/model_selection/plot_learning_curve.html#sphx-glr-auto-examples-model-selection-plot-learning-curve-py\n",
    "from sklearn.model_selection import learning_curve\n",
    "\n",
    "def plot_learning_curve(estimator, title, X, y, ylim=None, cv=None,\n",
    "                        n_jobs=None, train_sizes=np.linspace(.1, 1.0, 5)):\n",
    "    \"\"\"\n",
    "    Generate a simple plot of the test and training learning curve.\n",
    "\n",
    "    Parameters\n",
    "    ----------\n",
    "    estimator : object type that implements the \"fit\" and \"predict\" methods\n",
    "        An object of that type which is cloned for each validation.\n",
    "\n",
    "    title : string\n",
    "        Title for the chart.\n",
    "\n",
    "    X : array-like, shape (n_samples, n_features)\n",
    "        Training vector, where n_samples is the number of samples and\n",
    "        n_features is the number of features.\n",
    "\n",
    "    y : array-like, shape (n_samples) or (n_samples, n_features), optional\n",
    "        Target relative to X for classification or regression;\n",
    "        None for unsupervised learning.\n",
    "\n",
    "    ylim : tuple, shape (ymin, ymax), optional\n",
    "        Defines minimum and maximum yvalues plotted.\n",
    "\n",
    "    cv : int, cross-validation generator or an iterable, optional\n",
    "        Determines the cross-validation splitting strategy.\n",
    "        Possible inputs for cv are:\n",
    "          - None, to use the default 3-fold cross-validation,\n",
    "          - integer, to specify the number of folds.\n",
    "          - :term:`CV splitter`,\n",
    "          - An iterable yielding (train, test) splits as arrays of indices.\n",
    "\n",
    "        For integer/None inputs, if ``y`` is binary or multiclass,\n",
    "        :class:`StratifiedKFold` used. If the estimator is not a classifier\n",
    "        or if ``y`` is neither binary nor multiclass, :class:`KFold` is used.\n",
    "\n",
    "        Refer :ref:`User Guide <cross_validation>` for the various\n",
    "        cross-validators that can be used here.\n",
    "\n",
    "    n_jobs : int or None, optional (default=None)\n",
    "        Number of jobs to run in parallel.\n",
    "        ``None`` means 1 unless in a :obj:`joblib.parallel_backend` context.\n",
    "        ``-1`` means using all processors. See :term:`Glossary <n_jobs>`\n",
    "        for more details.\n",
    "\n",
    "    train_sizes : array-like, shape (n_ticks,), dtype float or int\n",
    "        Relative or absolute numbers of training examples that will be used to\n",
    "        generate the learning curve. If the dtype is float, it is regarded as a\n",
    "        fraction of the maximum size of the training set (that is determined\n",
    "        by the selected validation method), i.e. it has to be within (0, 1].\n",
    "        Otherwise it is interpreted as absolute sizes of the training sets.\n",
    "        Note that for classification the number of samples usually have to\n",
    "        be big enough to contain at least one sample from each class.\n",
    "        (default: np.linspace(0.1, 1.0, 5))\n",
    "    \"\"\"\n",
    "    plt.figure()\n",
    "    plt.title(title)\n",
    "    if ylim is not None:\n",
    "        plt.ylim(*ylim)\n",
    "    plt.xlabel(\"Training examples\")\n",
    "    plt.ylabel(\"Score\")\n",
    "    train_sizes, train_scores, test_scores = learning_curve(\n",
    "        estimator, X, y, cv=cv, n_jobs=n_jobs, train_sizes=train_sizes)\n",
    "    train_scores_mean = np.mean(train_scores, axis=1)\n",
    "    train_scores_std = np.std(train_scores, axis=1)\n",
    "    test_scores_mean = np.mean(test_scores, axis=1)\n",
    "    test_scores_std = np.std(test_scores, axis=1)\n",
    "    plt.grid()\n",
    "\n",
    "    plt.fill_between(train_sizes, train_scores_mean - train_scores_std,\n",
    "                     train_scores_mean + train_scores_std, alpha=0.1,\n",
    "                     color=\"r\")\n",
    "    plt.fill_between(train_sizes, test_scores_mean - test_scores_std,\n",
    "                     test_scores_mean + test_scores_std, alpha=0.1, color=\"g\")\n",
    "    plt.plot(train_sizes, train_scores_mean, 'o-', color=\"r\",\n",
    "             label=\"Training score\")\n",
    "    plt.plot(train_sizes, test_scores_mean, 'o-', color=\"g\",\n",
    "             label=\"Cross-validation score\")\n",
    "\n",
    "    plt.legend(loc=\"best\")\n",
    "    return plt\n",
    "\n",
    "# see ing if more data would be helpful\n",
    "plot_learning_curve(best_ada, \"AdaBoost Learning Curve\", named_train, violator_train, cv=5)\n",
    "plot_learning_curve(best_xgb, \"XGBoost Learning Curve\", named_train, violator_train, cv=5)"
   ]
  },
  {
   "cell_type": "code",
   "execution_count": 52,
   "metadata": {},
   "outputs": [
    {
     "name": "stdout",
     "output_type": "stream",
     "text": [
      "drugs violations:\n",
      "\n",
      "AdaBoost Results:\n",
      "              precision    recall  f1-score   support\n",
      "\n",
      "         0.0       0.95      0.99      0.97      4310\n",
      "         1.0       0.50      0.11      0.18       237\n",
      "\n",
      "   micro avg       0.95      0.95      0.95      4547\n",
      "   macro avg       0.73      0.55      0.58      4547\n",
      "weighted avg       0.93      0.95      0.93      4547\n",
      "\n",
      "XGBoost Results:\n",
      "              precision    recall  f1-score   support\n",
      "\n",
      "         0.0       0.95      0.98      0.97      4310\n",
      "         1.0       0.30      0.13      0.18       237\n",
      "\n",
      "   micro avg       0.94      0.94      0.94      4547\n",
      "   macro avg       0.63      0.56      0.57      4547\n",
      "weighted avg       0.92      0.94      0.93      4547\n",
      "\n",
      "alcohol violations:\n",
      "\n",
      "AdaBoost Results:\n",
      "              precision    recall  f1-score   support\n",
      "\n",
      "         0.0       0.98      1.00      0.99      4451\n",
      "         1.0       0.42      0.08      0.14        96\n",
      "\n",
      "   micro avg       0.98      0.98      0.98      4547\n",
      "   macro avg       0.70      0.54      0.56      4547\n",
      "weighted avg       0.97      0.98      0.97      4547\n",
      "\n",
      "XGBoost Results:\n",
      "              precision    recall  f1-score   support\n",
      "\n",
      "         0.0       0.98      0.99      0.99      4451\n",
      "         1.0       0.19      0.07      0.11        96\n",
      "\n",
      "   micro avg       0.97      0.97      0.97      4547\n",
      "   macro avg       0.58      0.53      0.55      4547\n",
      "weighted avg       0.96      0.97      0.97      4547\n",
      "\n",
      "weapon_poss violations:\n",
      "\n",
      "AdaBoost Results:\n",
      "              precision    recall  f1-score   support\n",
      "\n",
      "         0.0       0.97      1.00      0.98      4412\n",
      "         1.0       0.28      0.05      0.09       135\n",
      "\n",
      "   micro avg       0.97      0.97      0.97      4547\n",
      "   macro avg       0.63      0.52      0.54      4547\n",
      "weighted avg       0.95      0.97      0.96      4547\n",
      "\n",
      "XGBoost Results:\n",
      "              precision    recall  f1-score   support\n",
      "\n",
      "         0.0       0.97      0.99      0.98      4412\n",
      "         1.0       0.24      0.09      0.13       135\n",
      "\n",
      "   micro avg       0.96      0.96      0.96      4547\n",
      "   macro avg       0.61      0.54      0.56      4547\n",
      "weighted avg       0.95      0.96      0.96      4547\n",
      "\n",
      "stolen_prop violations:\n",
      "\n",
      "AdaBoost Results:\n",
      "              precision    recall  f1-score   support\n",
      "\n",
      "         0.0       0.99      1.00      0.99      4501\n",
      "         1.0       0.50      0.02      0.04        46\n",
      "\n",
      "   micro avg       0.99      0.99      0.99      4547\n",
      "   macro avg       0.75      0.51      0.52      4547\n",
      "weighted avg       0.99      0.99      0.99      4547\n",
      "\n",
      "XGBoost Results:\n",
      "              precision    recall  f1-score   support\n",
      "\n",
      "         0.0       0.99      1.00      0.99      4501\n",
      "         1.0       0.07      0.02      0.03        46\n",
      "\n",
      "   micro avg       0.99      0.99      0.99      4547\n",
      "   macro avg       0.53      0.51      0.51      4547\n",
      "weighted avg       0.98      0.99      0.98      4547\n",
      "\n",
      "poss_unauth violations:\n",
      "\n",
      "AdaBoost Results:\n",
      "              precision    recall  f1-score   support\n",
      "\n",
      "         0.0       0.89      0.99      0.94      4011\n",
      "         1.0       0.59      0.08      0.14       536\n",
      "\n",
      "   micro avg       0.88      0.88      0.88      4547\n",
      "   macro avg       0.74      0.53      0.54      4547\n",
      "weighted avg       0.85      0.88      0.84      4547\n",
      "\n",
      "XGBoost Results:\n",
      "              precision    recall  f1-score   support\n",
      "\n",
      "         0.0       0.89      0.98      0.93      4011\n",
      "         1.0       0.44      0.12      0.19       536\n",
      "\n",
      "   micro avg       0.88      0.88      0.88      4547\n",
      "   macro avg       0.67      0.55      0.56      4547\n",
      "weighted avg       0.84      0.88      0.85      4547\n",
      "\n",
      "verbal_staff violations:\n",
      "\n",
      "AdaBoost Results:\n",
      "              precision    recall  f1-score   support\n",
      "\n",
      "         0.0       0.93      0.99      0.96      4230\n",
      "         1.0       0.40      0.05      0.09       317\n",
      "\n",
      "   micro avg       0.93      0.93      0.93      4547\n",
      "   macro avg       0.67      0.52      0.53      4547\n",
      "weighted avg       0.90      0.93      0.90      4547\n",
      "\n",
      "XGBoost Results:\n",
      "              precision    recall  f1-score   support\n",
      "\n",
      "         0.0       0.94      0.98      0.96      4230\n",
      "         1.0       0.29      0.09      0.13       317\n",
      "\n",
      "   micro avg       0.92      0.92      0.92      4547\n",
      "   macro avg       0.61      0.54      0.55      4547\n",
      "weighted avg       0.89      0.92      0.90      4547\n",
      "\n",
      "phys_staff violations:\n",
      "\n",
      "AdaBoost Results:\n",
      "              precision    recall  f1-score   support\n",
      "\n",
      "         0.0       0.97      1.00      0.98      4410\n",
      "         1.0       0.45      0.04      0.07       137\n",
      "\n",
      "   micro avg       0.97      0.97      0.97      4547\n",
      "   macro avg       0.71      0.52      0.53      4547\n",
      "weighted avg       0.96      0.97      0.96      4547\n",
      "\n",
      "XGBoost Results:\n",
      "              precision    recall  f1-score   support\n",
      "\n",
      "         0.0       0.97      1.00      0.98      4410\n",
      "         1.0       0.33      0.07      0.12       137\n",
      "\n",
      "   micro avg       0.97      0.97      0.97      4547\n",
      "   macro avg       0.65      0.53      0.55      4547\n",
      "weighted avg       0.95      0.97      0.96      4547\n",
      "\n",
      "verb_inmate violations:\n",
      "\n",
      "AdaBoost Results:\n",
      "              precision    recall  f1-score   support\n",
      "\n",
      "         0.0       0.96      1.00      0.98      4345\n",
      "         1.0       0.33      0.01      0.03       202\n",
      "\n",
      "   micro avg       0.95      0.95      0.95      4547\n",
      "   macro avg       0.64      0.51      0.50      4547\n",
      "weighted avg       0.93      0.95      0.93      4547\n",
      "\n",
      "XGBoost Results:\n",
      "              precision    recall  f1-score   support\n",
      "\n",
      "         0.0       0.96      0.99      0.97      4345\n",
      "         1.0       0.20      0.05      0.08       202\n",
      "\n",
      "   micro avg       0.95      0.95      0.95      4547\n",
      "   macro avg       0.58      0.52      0.53      4547\n",
      "weighted avg       0.92      0.95      0.93      4547\n",
      "\n",
      "phys_inmate violations:\n",
      "\n",
      "AdaBoost Results:\n",
      "              precision    recall  f1-score   support\n",
      "\n",
      "         0.0       0.90      0.99      0.94      4041\n",
      "         1.0       0.55      0.13      0.21       506\n",
      "\n",
      "   micro avg       0.89      0.89      0.89      4547\n",
      "   macro avg       0.72      0.56      0.57      4547\n",
      "weighted avg       0.86      0.89      0.86      4547\n",
      "\n",
      "XGBoost Results:\n",
      "              precision    recall  f1-score   support\n",
      "\n",
      "         0.0       0.90      0.97      0.94      4041\n",
      "         1.0       0.42      0.18      0.25       506\n",
      "\n",
      "   micro avg       0.88      0.88      0.88      4547\n",
      "   macro avg       0.66      0.57      0.59      4547\n",
      "weighted avg       0.85      0.88      0.86      4547\n",
      "\n",
      "att_escape violations:\n",
      "\n",
      "AdaBoost Results:\n",
      "              precision    recall  f1-score   support\n",
      "\n",
      "         0.0       0.99      1.00      1.00      4521\n",
      "         1.0       0.00      0.00      0.00        26\n",
      "\n",
      "   micro avg       0.99      0.99      0.99      4547\n",
      "   macro avg       0.50      0.50      0.50      4547\n",
      "weighted avg       0.99      0.99      0.99      4547\n",
      "\n",
      "XGBoost Results:\n",
      "              precision    recall  f1-score   support\n",
      "\n",
      "         0.0       0.99      1.00      1.00      4521\n",
      "         1.0       0.00      0.00      0.00        26\n",
      "\n",
      "   micro avg       0.99      0.99      0.99      4547\n",
      "   macro avg       0.50      0.50      0.50      4547\n",
      "weighted avg       0.99      0.99      0.99      4547\n",
      "\n",
      "out_place violations:\n",
      "\n",
      "AdaBoost Results:\n",
      "              precision    recall  f1-score   support\n",
      "\n",
      "         0.0       0.88      0.99      0.93      3994\n",
      "         1.0       0.41      0.07      0.12       553\n",
      "\n",
      "   micro avg       0.87      0.87      0.87      4547\n",
      "   macro avg       0.65      0.53      0.53      4547\n",
      "weighted avg       0.83      0.87      0.83      4547\n",
      "\n",
      "XGBoost Results:\n",
      "              precision    recall  f1-score   support\n",
      "\n",
      "         0.0       0.89      0.96      0.93      3994\n",
      "         1.0       0.38      0.16      0.23       553\n",
      "\n",
      "   micro avg       0.87      0.87      0.87      4547\n",
      "   macro avg       0.64      0.56      0.58      4547\n",
      "weighted avg       0.83      0.87      0.84      4547\n",
      "\n",
      "disobey_ord violations:\n",
      "\n",
      "AdaBoost Results:\n",
      "              precision    recall  f1-score   support\n",
      "\n",
      "         0.0       0.84      0.96      0.89      3636\n",
      "         1.0       0.61      0.26      0.36       911\n",
      "\n",
      "   micro avg       0.82      0.82      0.82      4547\n",
      "   macro avg       0.73      0.61      0.63      4547\n",
      "weighted avg       0.79      0.82      0.79      4547\n",
      "\n",
      "XGBoost Results:\n",
      "              precision    recall  f1-score   support\n",
      "\n",
      "         0.0       0.84      0.93      0.88      3636\n",
      "         1.0       0.50      0.28      0.36       911\n",
      "\n",
      "   micro avg       0.80      0.80      0.80      4547\n",
      "   macro avg       0.67      0.61      0.62      4547\n",
      "weighted avg       0.77      0.80      0.78      4547\n",
      "\n"
     ]
    },
    {
     "name": "stdout",
     "output_type": "stream",
     "text": [
      "maj_violation violations:\n",
      "\n",
      "AdaBoost Results:\n",
      "              precision    recall  f1-score   support\n",
      "\n",
      "         0.0       0.97      1.00      0.98      4414\n",
      "         1.0       0.20      0.02      0.04       133\n",
      "\n",
      "   micro avg       0.97      0.97      0.97      4547\n",
      "   macro avg       0.59      0.51      0.51      4547\n",
      "weighted avg       0.95      0.97      0.96      4547\n",
      "\n",
      "XGBoost Results:\n",
      "              precision    recall  f1-score   support\n",
      "\n",
      "         0.0       0.97      0.99      0.98      4414\n",
      "         1.0       0.15      0.05      0.08       133\n",
      "\n",
      "   micro avg       0.96      0.96      0.96      4547\n",
      "   macro avg       0.56      0.52      0.53      4547\n",
      "weighted avg       0.95      0.96      0.96      4547\n",
      "\n",
      "minor_violation violations:\n",
      "\n",
      "AdaBoost Results:\n",
      "              precision    recall  f1-score   support\n",
      "\n",
      "         0.0       0.92      1.00      0.96      4202\n",
      "         1.0       0.33      0.01      0.02       345\n",
      "\n",
      "   micro avg       0.92      0.92      0.92      4547\n",
      "   macro avg       0.63      0.50      0.49      4547\n",
      "weighted avg       0.88      0.92      0.89      4547\n",
      "\n",
      "XGBoost Results:\n",
      "              precision    recall  f1-score   support\n",
      "\n",
      "         0.0       0.93      0.99      0.96      4202\n",
      "         1.0       0.20      0.04      0.06       345\n",
      "\n",
      "   micro avg       0.92      0.92      0.92      4547\n",
      "   macro avg       0.56      0.51      0.51      4547\n",
      "weighted avg       0.87      0.92      0.89      4547\n",
      "\n",
      "other_violation violations:\n",
      "\n",
      "AdaBoost Results:\n",
      "              precision    recall  f1-score   support\n",
      "\n",
      "         0.0       0.95      1.00      0.97      4310\n",
      "         1.0       0.00      0.00      0.00       237\n",
      "\n",
      "   micro avg       0.95      0.95      0.95      4547\n",
      "   macro avg       0.47      0.50      0.49      4547\n",
      "weighted avg       0.90      0.95      0.92      4547\n",
      "\n",
      "XGBoost Results:\n",
      "              precision    recall  f1-score   support\n",
      "\n",
      "         0.0       0.95      0.99      0.97      4310\n",
      "         1.0       0.08      0.02      0.03       237\n",
      "\n",
      "   micro avg       0.94      0.94      0.94      4547\n",
      "   macro avg       0.52      0.50      0.50      4547\n",
      "weighted avg       0.90      0.94      0.92      4547\n",
      "\n"
     ]
    }
   ],
   "source": [
    "# getting predictions for each fo the types\n",
    "for c in y_cat.columns:\n",
    "    named_train, named_test, violation_type_train, violation_type_test = train_test_split(pd.get_dummies(named.fillna(0)),\n",
    "                                                                          y_cat[c].fillna(0), random_state=seed)\n",
    "    best_ada.fit(named_train, violation_type_train)\n",
    "    best_xgb.fit(named_train, violation_type_train)\n",
    "    print(f'{c} violations:\\n')\n",
    "    print('AdaBoost Results:')\n",
    "    print(classification_report(violation_type_test, best_ada.predict(named_test)))\n",
    "    print('XGBoost Results:')\n",
    "    print(classification_report(violation_type_test, best_xgb.predict(named_test)))"
   ]
  },
  {
   "cell_type": "code",
   "execution_count": 53,
   "metadata": {},
   "outputs": [
    {
     "name": "stdout",
     "output_type": "stream",
     "text": [
      "[t-SNE] Computing 106 nearest neighbors...\n",
      "[t-SNE] Indexed 18185 samples in 0.679s...\n",
      "[t-SNE] Computed neighbors for 18185 samples in 13.758s...\n",
      "[t-SNE] Computed conditional probabilities for sample 1000 / 18185\n",
      "[t-SNE] Computed conditional probabilities for sample 2000 / 18185\n",
      "[t-SNE] Computed conditional probabilities for sample 3000 / 18185\n",
      "[t-SNE] Computed conditional probabilities for sample 4000 / 18185\n",
      "[t-SNE] Computed conditional probabilities for sample 5000 / 18185\n",
      "[t-SNE] Computed conditional probabilities for sample 6000 / 18185\n",
      "[t-SNE] Computed conditional probabilities for sample 7000 / 18185\n",
      "[t-SNE] Computed conditional probabilities for sample 8000 / 18185\n",
      "[t-SNE] Computed conditional probabilities for sample 9000 / 18185\n",
      "[t-SNE] Computed conditional probabilities for sample 10000 / 18185\n",
      "[t-SNE] Computed conditional probabilities for sample 11000 / 18185\n",
      "[t-SNE] Computed conditional probabilities for sample 12000 / 18185\n",
      "[t-SNE] Computed conditional probabilities for sample 13000 / 18185\n",
      "[t-SNE] Computed conditional probabilities for sample 14000 / 18185\n",
      "[t-SNE] Computed conditional probabilities for sample 15000 / 18185\n",
      "[t-SNE] Computed conditional probabilities for sample 16000 / 18185\n",
      "[t-SNE] Computed conditional probabilities for sample 17000 / 18185\n",
      "[t-SNE] Computed conditional probabilities for sample 18000 / 18185\n",
      "[t-SNE] Computed conditional probabilities for sample 18185 / 18185\n",
      "[t-SNE] Mean sigma: 23.929055\n",
      "[t-SNE] KL divergence after 250 iterations with early exaggeration: 69.858963\n",
      "[t-SNE] KL divergence after 750 iterations: 1.172324\n"
     ]
    },
    {
     "data": {
      "text/plain": [
       "<seaborn.axisgrid.FacetGrid at 0x1a4baf1a90>"
      ]
     },
     "execution_count": 53,
     "metadata": {},
     "output_type": "execute_result"
    },
    {
     "data": {
      "image/png": "[encoded data removed]",
      "text/plain": [
       "<Figure size 411.875x360 with 1 Axes>"
      ]
     },
     "metadata": {},
     "output_type": "display_data"
    }
   ],
   "source": [
    "# visualization\n",
    "from sklearn.manifold import TSNE\n",
    "tsne = TSNE(n_components=2, verbose=1, perplexity=35,\n",
    "                 n_iter=750, learning_rate=100, random_state=seed)\n",
    "tsne_ = tsne.fit_transform(pd.get_dummies(named).fillna(0))\n",
    "df_tsne = pd.DataFrame(tsne_, columns=['comp1', 'comp2'])\n",
    "df_tsne['label'] = violator.values\n",
    "sns.lmplot(x='comp1', y='comp2', data=df_tsne, hue='label', fit_reg=False)"
   ]
  },
  {
   "cell_type": "code",
   "execution_count": 54,
   "metadata": {},
   "outputs": [
    {
     "name": "stdout",
     "output_type": "stream",
     "text": [
      "              precision    recall  f1-score   support\n",
      "\n",
      "         0.0       0.92      0.96      0.94       229\n",
      "         1.0       0.88      0.77      0.82        88\n",
      "\n",
      "   micro avg       0.91      0.91      0.91       317\n",
      "   macro avg       0.90      0.87      0.88       317\n",
      "weighted avg       0.91      0.91      0.91       317\n",
      "\n"
     ]
    }
   ],
   "source": [
    "# prediction on subset to new arriavls \n",
    "df_fresh_yr = pd.get_dummies(df[df.CS_SENTENCEMTH <= 12]).fillna(0)\n",
    "fresh_violator = violator[df.CS_SENTENCEMTH <= 12].fillna(0)\n",
    "fresh_train, fresh_test, fresh_v_train, fresh_v_test = train_test_split(df_fresh_yr, fresh_violator)\n",
    "fresh_ada = AdaBoostClassifier(learning_rate=0.9, n_estimators=125)\n",
    "fresh_ada.fit(df_fresh_yr, fresh_violator)\n",
    "print(classification_report(fresh_v_test, fresh_ada.predict(fresh_test)))"
   ]
  },
  {
   "cell_type": "code",
   "execution_count": 55,
   "metadata": {},
   "outputs": [
    {
     "data": {
      "text/plain": [
       "AdaBoostClassifier(algorithm='SAMME.R', base_estimator=None,\n",
       "          learning_rate=0.9, n_estimators=125, random_state=17)"
      ]
     },
     "execution_count": 55,
     "metadata": {},
     "output_type": "execute_result"
    }
   ],
   "source": [
    "# prediciton without race in the model\n",
    "df_no_race = pd.get_dummies(df.drop(columns=\"RACE\")).fillna(0)\n",
    "no_race_train, no_race_test, no_race_v_train, no_race_v_test = train_test_split(df_no_race, violator,\n",
    "                                                                               random_state=seed)\n",
    "no_race_ada = AdaBoostClassifier(learning_rate=0.9, n_estimators=125, random_state=seed)\n",
    "no_race_ada.fit(no_race_train, no_race_v_train)"
   ]
  },
  {
   "cell_type": "code",
   "execution_count": 56,
   "metadata": {},
   "outputs": [
    {
     "name": "stdout",
     "output_type": "stream",
     "text": [
      "WITHOUT RACE:\n",
      "              precision    recall  f1-score   support\n",
      "\n",
      "         0.0       0.76      0.80      0.78      2543\n",
      "         1.0       0.72      0.68      0.70      2004\n",
      "\n",
      "   micro avg       0.74      0.74      0.74      4547\n",
      "   macro avg       0.74      0.74      0.74      4547\n",
      "weighted avg       0.74      0.74      0.74      4547\n",
      "\n",
      "WITH RACE:\n",
      "              precision    recall  f1-score   support\n",
      "\n",
      "         0.0       0.74      0.76      0.75      2543\n",
      "         1.0       0.69      0.66      0.67      2004\n",
      "\n",
      "   micro avg       0.72      0.72      0.72      4547\n",
      "   macro avg       0.71      0.71      0.71      4547\n",
      "weighted avg       0.72      0.72      0.72      4547\n",
      "\n"
     ]
    }
   ],
   "source": [
    "print(\"WITHOUT RACE:\")\n",
    "print(classification_report(no_race_v_test, no_race_ada.predict(no_race_test)))\n",
    "print(\"WITH RACE:\")\n",
    "best_ada.fit(named_train, violator_train)\n",
    "print(classification_report(violator_test, best_ada.predict(named_test)))"
   ]
  },
  {
   "cell_type": "code",
   "execution_count": 59,
   "metadata": {},
   "outputs": [
    {
     "name": "stdout",
     "output_type": "stream",
     "text": [
      "Confusion matrix, without normalization\n",
      "[[1935  608]\n",
      " [ 676 1328]]\n"
     ]
    },
    {
     "data": {
      "image/png": "[encoded data removed]",
      "text/plain": [
       "<Figure size 432x288 with 2 Axes>"
      ]
     },
     "metadata": {},
     "output_type": "display_data"
    }
   ],
   "source": [
    "# a visual representation of our best results\n",
    "plot_confusion_matrix(confusion_matrix(violator_test.fillna(0), best_ada.predict(pd.get_dummies(named_test).fillna(0))),\n",
    "                     ['broke rules', 'did not break rules'])"
   ]
  },
  {
   "cell_type": "code",
   "execution_count": null,
   "metadata": {},
   "outputs": [],
   "source": []
  }
 ],
 "metadata": {
  "kernelspec": {
   "display_name": "Python 3",
   "language": "python",
   "name": "python3"
  },
  "language_info": {
   "codemirror_mode": {
    "name": "ipython",
    "version": 3
   },
   "file_extension": ".py",
   "mimetype": "text/x-python",
   "name": "python",
   "nbconvert_exporter": "python",
   "pygments_lexer": "ipython3",
   "version": "3.6.5"
  }
 },
 "nbformat": 4,
 "nbformat_minor": 2
}
