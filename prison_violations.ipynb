{
 "cells": [
  {
   "cell_type": "markdown",
   "metadata": {},
   "source": [
    "## TO DO:\n",
    "* clean feature variables\n",
    "    * which ones are we keeping/ creating?\n",
    "    * numeric features? categorical features?\n",
    "* MO MODELS\n",
    "    * predict on specific violations\n",
    "    * recent admission forecast\n",
    "* presentaton"
   ]
  },
  {
   "cell_type": "markdown",
   "metadata": {},
   "source": [
    "## Lit review\n",
    "Similar projects used:\n",
    "* OLS\n",
    "* Deep Learning\n",
    "    * Gradient based networks\n",
    "    "
   ]
  },
  {
   "cell_type": "code",
   "execution_count": 1,
   "metadata": {},
   "outputs": [],
   "source": [
    "# some tehcnicalities for working on the campus computers\n",
    "import os\n",
    "\n",
    "import sys\n",
    "sys.path.append(r'R:/JoePriceResearch/Python/Anaconda3/Lib/site-packages')"
   ]
  },
  {
   "cell_type": "code",
   "execution_count": 41,
   "metadata": {},
   "outputs": [],
   "source": [
    "import itertools\n",
    "import operator\n",
    "import re\n",
    "\n",
    "import pandas as pd # getting the data\n",
    "import numpy as np\n",
    "import seaborn as sns\n",
    "from matplotlib import pyplot as plt\n",
    "\n",
    "seed = 17"
   ]
  },
  {
   "cell_type": "code",
   "execution_count": 3,
   "metadata": {
    "scrolled": true
   },
   "outputs": [
    {
     "name": "stdout",
     "output_type": "stream",
     "text": [
      "first part shape: (3686, 3374)\n",
      "second part shape: (14499, 3374)\n",
      "True\n",
      "all together shape: (18185, 3374)\n"
     ]
    },
    {
     "data": {
      "text/html": [
       "<div>\n",
       "<style scoped>\n",
       "    .dataframe tbody tr th:only-of-type {\n",
       "        vertical-align: middle;\n",
       "    }\n",
       "\n",
       "    .dataframe tbody tr th {\n",
       "        vertical-align: top;\n",
       "    }\n",
       "\n",
       "    .dataframe thead th {\n",
       "        text-align: right;\n",
       "    }\n",
       "</style>\n",
       "<table border=\"1\" class=\"dataframe\">\n",
       "  <thead>\n",
       "    <tr style=\"text-align: right;\">\n",
       "      <th></th>\n",
       "      <th>V0001</th>\n",
       "      <th>V0002</th>\n",
       "      <th>V0003</th>\n",
       "      <th>V0004</th>\n",
       "      <th>V0005</th>\n",
       "      <th>V0006</th>\n",
       "      <th>V0007</th>\n",
       "      <th>V0008</th>\n",
       "      <th>V0009</th>\n",
       "      <th>V0010</th>\n",
       "      <th>...</th>\n",
       "      <th>CS_INCDA</th>\n",
       "      <th>CS_INCJ</th>\n",
       "      <th>CS_INCA</th>\n",
       "      <th>CH_NUMCAR</th>\n",
       "      <th>CH_NUMCAR1</th>\n",
       "      <th>CH_NUMCAR2</th>\n",
       "      <th>CH_NUMCAR3</th>\n",
       "      <th>CH_NUMCAR4</th>\n",
       "      <th>CH_NUMCAR5</th>\n",
       "      <th>CH_CRIM_HISTORY</th>\n",
       "    </tr>\n",
       "  </thead>\n",
       "  <tbody>\n",
       "    <tr>\n",
       "      <th>0</th>\n",
       "      <td>15717</td>\n",
       "      <td>10</td>\n",
       "      <td>201</td>\n",
       "      <td>2</td>\n",
       "      <td>2</td>\n",
       "      <td>0</td>\n",
       "      <td>5</td>\n",
       "      <td>10</td>\n",
       "      <td>215</td>\n",
       "      <td>99</td>\n",
       "      <td>...</td>\n",
       "      <td>0</td>\n",
       "      <td>0</td>\n",
       "      <td>0</td>\n",
       "      <td>0</td>\n",
       "      <td>1</td>\n",
       "      <td>1</td>\n",
       "      <td>1</td>\n",
       "      <td>1</td>\n",
       "      <td>1</td>\n",
       "      <td>2</td>\n",
       "    </tr>\n",
       "    <tr>\n",
       "      <th>1</th>\n",
       "      <td>15718</td>\n",
       "      <td>10</td>\n",
       "      <td>201</td>\n",
       "      <td>2</td>\n",
       "      <td>2</td>\n",
       "      <td>0</td>\n",
       "      <td>5</td>\n",
       "      <td>8</td>\n",
       "      <td>310</td>\n",
       "      <td>99</td>\n",
       "      <td>...</td>\n",
       "      <td>0</td>\n",
       "      <td>0</td>\n",
       "      <td>0</td>\n",
       "      <td>0</td>\n",
       "      <td>1</td>\n",
       "      <td>1</td>\n",
       "      <td>1</td>\n",
       "      <td>1</td>\n",
       "      <td>1</td>\n",
       "      <td>2</td>\n",
       "    </tr>\n",
       "    <tr>\n",
       "      <th>2</th>\n",
       "      <td>15719</td>\n",
       "      <td>10</td>\n",
       "      <td>201</td>\n",
       "      <td>2</td>\n",
       "      <td>2</td>\n",
       "      <td>0</td>\n",
       "      <td>5</td>\n",
       "      <td>2</td>\n",
       "      <td>145</td>\n",
       "      <td>99</td>\n",
       "      <td>...</td>\n",
       "      <td>0</td>\n",
       "      <td>0</td>\n",
       "      <td>0</td>\n",
       "      <td>0</td>\n",
       "      <td>1</td>\n",
       "      <td>1</td>\n",
       "      <td>1</td>\n",
       "      <td>1</td>\n",
       "      <td>1</td>\n",
       "      <td>2</td>\n",
       "    </tr>\n",
       "    <tr>\n",
       "      <th>3</th>\n",
       "      <td>15720</td>\n",
       "      <td>10</td>\n",
       "      <td>201</td>\n",
       "      <td>2</td>\n",
       "      <td>2</td>\n",
       "      <td>0</td>\n",
       "      <td>5</td>\n",
       "      <td>6</td>\n",
       "      <td>150</td>\n",
       "      <td>99</td>\n",
       "      <td>...</td>\n",
       "      <td>0</td>\n",
       "      <td>0</td>\n",
       "      <td>0</td>\n",
       "      <td>0</td>\n",
       "      <td>1</td>\n",
       "      <td>1</td>\n",
       "      <td>1</td>\n",
       "      <td>1</td>\n",
       "      <td>1</td>\n",
       "      <td>2</td>\n",
       "    </tr>\n",
       "    <tr>\n",
       "      <th>4</th>\n",
       "      <td>15721</td>\n",
       "      <td>10</td>\n",
       "      <td>201</td>\n",
       "      <td>2</td>\n",
       "      <td>2</td>\n",
       "      <td>0</td>\n",
       "      <td>4</td>\n",
       "      <td>11</td>\n",
       "      <td>183</td>\n",
       "      <td>99</td>\n",
       "      <td>...</td>\n",
       "      <td>0</td>\n",
       "      <td>0</td>\n",
       "      <td>1</td>\n",
       "      <td>1</td>\n",
       "      <td>2</td>\n",
       "      <td>1</td>\n",
       "      <td>2</td>\n",
       "      <td>2</td>\n",
       "      <td>2</td>\n",
       "      <td>1</td>\n",
       "    </tr>\n",
       "  </tbody>\n",
       "</table>\n",
       "<p>5 rows × 3374 columns</p>\n",
       "</div>"
      ],
      "text/plain": [
       "   V0001  V0002  V0003  V0004  V0005  V0006  V0007  V0008  V0009  V0010  \\\n",
       "0  15717     10    201      2      2      0      5     10    215     99   \n",
       "1  15718     10    201      2      2      0      5      8    310     99   \n",
       "2  15719     10    201      2      2      0      5      2    145     99   \n",
       "3  15720     10    201      2      2      0      5      6    150     99   \n",
       "4  15721     10    201      2      2      0      4     11    183     99   \n",
       "\n",
       "        ...         CS_INCDA  CS_INCJ  CS_INCA  CH_NUMCAR  CH_NUMCAR1  \\\n",
       "0       ...                0        0        0          0           1   \n",
       "1       ...                0        0        0          0           1   \n",
       "2       ...                0        0        0          0           1   \n",
       "3       ...                0        0        0          0           1   \n",
       "4       ...                0        0        1          1           2   \n",
       "\n",
       "   CH_NUMCAR2  CH_NUMCAR3  CH_NUMCAR4  CH_NUMCAR5  CH_CRIM_HISTORY  \n",
       "0           1           1           1           1                2  \n",
       "1           1           1           1           1                2  \n",
       "2           1           1           1           1                2  \n",
       "3           1           1           1           1                2  \n",
       "4           1           2           2           2                1  \n",
       "\n",
       "[5 rows x 3374 columns]"
      ]
     },
     "execution_count": 3,
     "metadata": {},
     "output_type": "execute_result"
    }
   ],
   "source": [
    "df = pd.read_csv('ICPSR_04572/DS0001/04572-0001-Data.tsv', sep='\\t')\n",
    "df2 = pd.read_csv('ICPSR_04572/DS0002/04572-0002-Data.tsv', sep='\\t')\n",
    "print('first part shape:',df.shape)\n",
    "print('second part shape:',df2.shape)\n",
    "print(all(df2.columns == df.columns))\n",
    "df = df.append(df2)\n",
    "print('all together shape:',df.shape)\n",
    "df.head()"
   ]
  },
  {
   "cell_type": "markdown",
   "metadata": {},
   "source": [
    "## Feature cleaning and Engineering"
   ]
  },
  {
   "cell_type": "code",
   "execution_count": 4,
   "metadata": {},
   "outputs": [],
   "source": [
    "# all of these values are missing data so we will replace them with np.nan\n",
    "nan_list = [99, 999, 9999, 9999.99, 99999, 99999.99, 999999, 999999.99,9999999,9999999.99,\n",
    "            99999999, 99999999.99, 9999999.98,9999998.00, 9999999.98, 9999998.00, 9999997.00]\n",
    "df.replace(nan_list, np.nan, inplace=True)"
   ]
  },
  {
   "cell_type": "markdown",
   "metadata": {},
   "source": [
    "We need to clean up some variables that we will be using as outcomes and things that come as a direct result like disciplinary action"
   ]
  },
  {
   "cell_type": "code",
   "execution_count": 5,
   "metadata": {
    "scrolled": true
   },
   "outputs": [],
   "source": [
    "# this block has the violations and discipline\n",
    "discipline_cols = [f'V{i}' for i in range(2500, 2565)]\n",
    "discipline = df[discipline_cols]\n",
    "df.drop(columns=discipline_cols, inplace=True)"
   ]
  },
  {
   "cell_type": "code",
   "execution_count": 6,
   "metadata": {},
   "outputs": [
    {
     "name": "stderr",
     "output_type": "stream",
     "text": [
      "/Users/branchflower/anaconda3/lib/python3.6/site-packages/pandas/core/frame.py:3778: SettingWithCopyWarning: \n",
      "A value is trying to be set on a copy of a slice from a DataFrame\n",
      "\n",
      "See the caveats in the documentation: http://pandas.pydata.org/pandas-docs/stable/indexing.html#indexing-view-versus-copy\n",
      "  return super(DataFrame, self).rename(**kwargs)\n"
     ]
    }
   ],
   "source": [
    "# renaming target variables\n",
    "targets = {# 'v2517':'breaking_rules', ### FIXME: This one isn't working for some reason\n",
    "'V2518':'drugs',\n",
    "'V2519':'n_drugs',\n",
    "'V2520':'alcohol',\n",
    "'V2521':'n_alcohol',\n",
    "'V2522':'weapon_poss',\n",
    "'V2523':'n_reapon_poss',\n",
    "'V2524':'stolen_prop',\n",
    "'V2525':'n_stolen_prop',\n",
    "'V2526':'poss_unauth',\n",
    "'V2527':'n_poss_unauth',\n",
    "'V2528':'verbal_staff',\n",
    "'V2527':'n_verbal_staff',\n",
    "'V2530':'phys_staff',\n",
    "'V2531':'n_phys_staff',\n",
    "'V2532':'verb_inmate',\n",
    "'V2533':'n_verb_inmate',\n",
    "'V2534':'phys_inmate',\n",
    "'V2535':'n_phys_inmate',\n",
    "'V2536':'att_escape',\n",
    "'V2537':'n_att_escape',\n",
    "'V2538':'out_place',\n",
    "'V2539':'n_out_place',\n",
    "'V2540':'disobey_ord',\n",
    "'V2541':'n_disobey_ord',\n",
    "'V2542':'maj_violation',\n",
    "'V2543':'n_maj_violation',\n",
    "'V2544':'minor_violation',\n",
    "'V2545':'n_minor_violation',\n",
    "'V2546':'other_violation',\n",
    "'V2547':'n_other_violation',\n",
    "'V2549':'recent_violations',\n",
    "}\n",
    "discipline.rename(mapper=targets, axis='columns', inplace=True)"
   ]
  },
  {
   "cell_type": "code",
   "execution_count": 7,
   "metadata": {},
   "outputs": [],
   "source": [
    "# we only need to rename these ones for now and we will work with the other ones if we see a particular importance\n",
    "varnames = {'V0001':'id','V00014':'age','V0019':'hispanic','V0037':'white','V0038':'black',\n",
    "            'V0039':'native_american','V0040':'asian','V0041':'pacfic_islander',\n",
    "            'V0042':'other_race','V0043':'unknown_race','V0046':'born_us',\n",
    "            'V0058':'marital_status','V0059':'military_service','V0079':'time_mil_service',\n",
    "            'V0083':'corrently_sentenced','V0084':'crim_stat_arrest','V0085':'wait_judicial_res',\n",
    "            'V0086':'wait_trial','V0087':'wait_parole','V0088':'judge_informed_time',\n",
    "            'V0089':'crim_stat_last_arrest','V0090':'held_other_authorities','V0091':'held_safekeeping',\n",
    "            'V0092':'held_other_reason',\n",
    "            # use offense codes for replacement to get categories of crimes\n",
    "                # 94,96,98,100,102 previous holding offenses\n",
    "                # 95,97,999,101,103 number of charges for said offenses\n",
    "                # 115,117,119,121,123 current holding offenses\n",
    "                # 116,118,120,122,124\n",
    "            'V0125':'arrest_month','V0127':'arrest_year',\n",
    "            'V0638':'crim_just_status',\n",
    "            # 639 - : pleas and trial info\n",
    "           }\n",
    "df.rename(mapper=varnames, axis='columns', inplace=True)\n"
   ]
  },
  {
   "cell_type": "code",
   "execution_count": 8,
   "metadata": {},
   "outputs": [],
   "source": [
    "# create height variable\n",
    "df['height'] = [(x * 12) if x < 90 else np.nan for x in df['V0007']]\n",
    "df['V0008'] = [y if y < 97 else 0 for y in df['V0008']]\n",
    "df['height'] = [x + y if y < 13 else y for x, y in zip(df['height'], df['V0008'])]"
   ]
  },
  {
   "cell_type": "code",
   "execution_count": 9,
   "metadata": {},
   "outputs": [],
   "source": [
    "# create binary plea or guilty verdict variable\n",
    "df['plea'] = df['V0639'].replace(99,np.nan).fillna(df['V0640'].replace([99,2],[np.nan,1])).fillna(df['V0641'].replace([99,3],[np.nan,1])).fillna(df['V0642'].replace([99,4],[np.nan,1])).fillna(df['V0643'].replace([99,5],[np.nan,1]))\n",
    "df['found_guilty'] = df['V0647'].replace([2,7,8,9],[0,np.nan,np.nan,np.nan])"
   ]
  },
  {
   "cell_type": "code",
   "execution_count": 10,
   "metadata": {},
   "outputs": [
    {
     "name": "stderr",
     "output_type": "stream",
     "text": [
      "/Users/branchflower/anaconda3/lib/python3.6/site-packages/ipykernel_launcher.py:3: SettingWithCopyWarning: \n",
      "A value is trying to be set on a copy of a slice from a DataFrame\n",
      "\n",
      "See the caveats in the documentation: http://pandas.pydata.org/pandas-docs/stable/indexing.html#indexing-view-versus-copy\n",
      "  This is separate from the ipykernel package so we can avoid doing imports until\n"
     ]
    }
   ],
   "source": [
    "# generate time since arrest variables\n",
    "df['mth_int_arr'] = (df['V2955'].replace(9999, np.nan) - df['V2953'].replace(9999,np.nan)) * 12 + (df['V2956'].replace(9999,np.nan) - df['V2952'].replace(9999, np.nan))\n",
    "df['mth_int_arr'][df['mth_int_arr'] < 0] = np.nan"
   ]
  },
  {
   "cell_type": "code",
   "execution_count": 11,
   "metadata": {},
   "outputs": [],
   "source": [
    "# Many values are codes as 1 and 2 for yes and no respectively we will change 2s to 0s\n",
    "two_to_zero = ['SES_PARENTS_INCARCERATED','SES_FAMILY_INCARCERATED', 'DRUG_ANY', 'DRUG_COCRK','DRUG_HEROPIT',\n",
    " 'DRUG_DEPRES',\n",
    " 'DRUG_STIMU','DRUG_HALLU', 'DRUG_MARIJ', 'DRUG_INHAL', 'DRUG_METHAM', 'DRUG_COCRK', 'DRUG_DEPREG',\n",
    " 'DRUG_STIMREG','DRUG_HALUREG', 'DRUG_MARIJREG', 'DRUG_INHALREG', 'DRUG_METHAMREG','DRUG_ANYMTH', 'DRUG_COCRKREG',\n",
    " 'DRUG_DEPMTH','DRUG_STIMMTH','DRUG_HALUMTH', 'DRUG_MARIJMTH', 'DRUG_INHALMTH', 'DRUG_METHAMTH',\n",
    " 'DRUG_ANYTME', 'DRUG_COCRKTME','DRUG_HROPTME', 'DRUG_DEPTME', 'DRUG_STIMTME','DRUG_HALUTME', 'DRUG_MARIJTME',\n",
    " 'DRUG_METHATME', 'DRUG_NUMPOS_CAGE', 'DRUG_ANY_ALCDRUGTME', 'DRUG_DROVE_ALCDRUG', 'DRUG_CARACCIDENT_ALCDRUG', \n",
    " 'DRUG_DISPUTES_ALCDRUG', 'DRUG_FIRED_ALCDRUG', 'DRUG_WORKTROUBLE_ALCDRUG', 'DRUG_ARRESTED_ALCDRUG',\n",
    " 'DRUG_FIGHT_ALCDRUG', 'DRUG_ANYTRT', 'DRUG_ANYPGM', 'DRUG_HEROIN_CB', 'DRUG_OPIATES_CB', 'DRUG_METHAMP_CB',\n",
    " 'DRUG_AMPH_CB','DRUG_METHAQ_CB','DRUG_BARB_CB','DRUG_TRANQ_CB', 'DRUG_CRACK_CB','DRUG_COCAINE_CB',\n",
    " 'DRUG_PCP_CB', 'DRUG_HALLU_CB', 'DRUG_MARIJ_CB', 'DRUG_OTHERDRUG_CB', 'DRUG_INHAL_CB', 'DRUG_INJECT_CB',\n",
    " 'DRUG_HEROINREG_CB', 'DRUG_OPIATESREG_CB', 'DRUG_METHAMPREG_CB',\n",
    " 'DRUG_AMPHREG_CB','DRUG_METHAQREG_CB','DRUG_BARBREG_CB','DRUG_TRANQREG_CB', 'DRUG_CRACKREG_CB','DRUG_COCREG_CB',\n",
    " 'DRUG_PCPREG_CB', 'DRUG_HALLUREG_CB', 'DRUG_MARIJREG_CB', 'DRUG_OTHERDRUGREG_CB', 'DRUG_INHALREG_CB',\n",
    " 'DRUG_HEROINMTH_CB', 'DRUG_OPIATESMTH_CB', 'DRUG_METHAMPMTH_CB',\n",
    " 'DRUG_AMPHMTH_CB','DRUG_METHAQMTH_CB','DRUG_BARBMTH_CB','DRUG_TRANQMTH_CB', 'DRUG_CRACKMTH_CB','DRUG_COCAINEMTH_CB',\n",
    " 'DRUG_PCPMTH_CB', 'DRUG_HALLUMTH_CB', 'DRUG_MARIJMTH_CB', 'DRUG_OTHERDRUGMTH_CB', 'DRUG_INHALMTH_CB',\n",
    " 'DRUG_ANYINF_CB', 'DRUG_CURRENTOFFENSE_DRUGS', 'DRUG_DROVE_DRUG', 'DRUG_CARACCIDENT_DRUG', 'DRUG_DISPUTES_DRUG',\n",
    " 'DRUG_TRT', 'CITIZENSHIP', 'CO_PAROLEVIOLATION', 'CO_PROBVIOLATION', 'CO_NEWCOURTCOMMIT', 'CO_UNSENTENCED',\n",
    " 'IC_ONEVICT_HISPANIC', 'IC_ONEVICT_GENDER', 'IC_MANYVICT_INCIDENT', 'IC_MANYVICT_HISPANIC', 'IC_MANYVICT_KNOWNVICT',\n",
    " 'GENDER','SEX_OFFENDER', 'MCMH_SMI', 'SES_PARENTS_MINOR', 'SES_LIVE_CHILDREN', 'SES_LIVE_CHILD_ARREST',\n",
    " 'SES_ANY_CHILDREN', 'CS_SEX_TREATMENT', 'CH_CRIM_HISTORY', 'MCMH_MENTAL_HISTORY']\n",
    "two_to_zero.extend([x for x in df.columns if re.search(r'DRUG_.+?_TMEINF',x)])\n",
    "two_to_zero.extend([x for x in df.columns if re.search(r'SES_INCOMES.+?[^M]',x)])\n",
    "two_to_zero.extend([x for x in df.columns if re.search(r'IC_W.+?',x)])\n",
    "two_to_zero.extend([x for x in df.columns if re.search(r'MCMH_\\w$',x)])\n",
    "two_to_zero.extend([x for x in df.columns if re.search(r'MCMH_MH_.+?$',x)])\n",
    "two_to_zero.extend([x for x in df.columns if re.search(r'MCMH_WHEN_.+?$',x)])\n",
    "two_to_zero.extend([x for x in df.columns if re.search(r'MCMH.*?HIV.*?',x)])\n",
    "# do the actual change\n",
    "\n",
    "for c in two_to_zero:\n",
    "    df[c] = df[c].replace(2, 0)\n",
    "    df[c] = df[c].replace([7,8,9], np.nan)"
   ]
  },
  {
   "cell_type": "code",
   "execution_count": 14,
   "metadata": {},
   "outputs": [],
   "source": [
    "# variables that should be categorical but are numeric\n",
    "to_cat = ['RACE','SES_AGEPERP_PHYSSEXABUSED','SES_OFF_RAPED','SES_PERP_SEX_KNOWN','CH_CRIMHIST_COLLAPSED', 'CH_PRIORSENTENCE',\n",
    "'CO_STATUSTME', 'SES_LIVEDGROWINGUP','DRUG_NUMPOS_CAGE_COLLAPSED','DRUG_ALCYEAR_FREQ','CO_CURRENTOFFENSE',\n",
    "'SES_INCOMEMTH', 'IC_ONEVICT_RACE', 'IC_ONEVICT_AGECAT', 'IC_ONEVICT_RELATIONSHIP', 'IC_MANYVICT_RACE',\n",
    " 'IC_MANYVICT_GENDER', 'DRUG_HIERARCHY2','TYPEOFFENSE','MOST_SERIOUS_OFFENSE2', 'MCMH_EVERRPT']\n",
    "\n",
    "# do the actual change\n",
    "for c in to_cat:\n",
    "    df[c] = df[c].astype(str)"
   ]
  },
  {
   "cell_type": "code",
   "execution_count": 15,
   "metadata": {},
   "outputs": [],
   "source": [
    "# special encoding for sentence length\n",
    "# 1000 is life\n",
    "df['life_sentence'] = df['CS_SENTENCEMTH'] == 10000\n",
    "df.loc[df['CS_SENTENCEMTH'] > 720,'CS_SENTENCEMTH'] = 720"
   ]
  },
  {
   "cell_type": "code",
   "execution_count": 17,
   "metadata": {},
   "outputs": [],
   "source": [
    "# named variables to drop\n",
    "drop_me = ['SES_PERP_SEX_FAMILY','SES_PERP_SEX_PARENT', 'SES_PERP_SEX_RELATIVE','SES_PERP_SEX_SPOUSE',\n",
    " 'SES_PERP_SEX_SPOUSE_BOY_GIRL','SES_PERP_SEX_BOY_GIRL','SES_PERP_SEX_FRIEND','SES_PERP_SEX_OTHER',\n",
    "'CH_CRIMHIST', 'CH_PROBATION','CH_INCARCERATION','SES_MINOR_ADULT_CHILDREN', 'DRUG_TRTINC',\n",
    " 'DRUG_TRTPRB', 'DRUG_TRTCORR', 'DRUG_TRT_ALC_PROBPAR', 'DRUG_TRT_DRUG_PROBPAR', 'DRUG_TRT_ADM',\n",
    " 'DRUG_TRT_ALC_ADM', 'DRUG_TRT_DRUG_ADM', 'DRUG_PGMINC', 'DRUG_PGMPRB','DRUG_PGMCORR', 'DRUG_PGMPRBALC',\n",
    " 'DRUG_PGMPRBDRUG', 'DRUG_PGMADM', 'DRUG_PGMADMALC', 'DRUG_PGMADMDRUG', 'DRUG_TRPINC', 'DRUG_TRPPRB',\n",
    " 'DRUG_TRPCORR', 'DRUG_TRPPRBALC', 'DRUG_TRPADM', 'DRUG_TRPADMALC', 'DRUG_TRPADMDRUG',\n",
    " 'DRUG_FIRED_DRUG', 'DRUG_WORKTROUBLE_DRUG', 'DRUG_ARRESTED_DRUG', 'DRUG_FIGHT_DRUG', 'DRUG_12DRINKS', \n",
    " 'DRUG_ALCREG', 'DRUG_ALCYEAR', 'DRUG_ALCTME', 'DRUG_CUTDOWN_ALC', 'DRUG_CRITICISM_ALC', 'DRUG_GUILITY_ALC', \n",
    " 'DRUG_FIRSTTHING_ALC', 'DRUG_DRIVE_ALC', 'DRUG_ACCIDENT_ALC', 'DRUG_5LIQUOR_EQ_ALC','DRUG_DISPUTE_ALC',\n",
    " 'DRUG_LOSTJOB_ALC', 'DRUG_WORKTROUBLE_ALC', 'DRUG_ARRESTED_ALC', 'DRUG_FIGHT_ALC', 'DRUG_TRT_DETOX',\n",
    " 'DRUG_TRT_RES', 'DRUG_TRT_PROFCOUN', 'DRUG_TRT_GROUP', 'DRUG_TRT_EDUCPRG', 'DRUG_TRT_MAINDRUG', \n",
    " 'DRUG_TRT_OTHERPRG', 'DRUG_TRT_SEPPRG','IC_ONEVICT_KNOWNVICTWELL','IC_ONEVICT_KNOWNVICT',\n",
    " 'IC_MANYVICT_HISPANIC_OVERALL', 'IC_MANYVICT_SAMERACE', 'IC_MANYVICT_YOUNGEST', 'IC_MANYVICT_OLDEST',\n",
    " 'CAT_AGE3', 'DRUG_HIERARCHY','MOST_SERIOUS_OFFENSE1','MCMH_MHOSPYR', 'MCMH_MHOSPADM', 'MCMH_MHOSPYRADM']\n",
    "drop_me.extend([x for x in df.columns if re.search(r'DRUG.*?TRT.*?_INC',x)])\n",
    "drop_me.extend([x for x in df.columns if re.search(r'DRUG.*?TRT_.+?_PROBPAR',x)])\n",
    "drop_me.extend([x for x in df.columns if re.search(r'DRUG.*?TRT_.+?_ADM',x)])\n",
    "drop_me.extend([x for x in df.columns if re.search(r'SES_PERP_PHYS_[^K].+?',x)])\n",
    "drop_me.extend([x for x in df.columns if re.search(r'SES_PERP_PHYSSEX.*?',x)])\n",
    "drop_me.extend([x for x in df.columns if re.search(r'SES_INCOME[^M].*?MTH',x)])\n",
    "drop_me.extend([x for x in df.columns if re.search(r'IC_MANYVICT_[^K].*?',x)])\n",
    "drop_me.extend([x for x in df.columns if re.search(r'CH_NUMCAR\\d',x)])\n",
    "# do the actual dropping\n",
    "df.drop(columns=drop_me, inplace=True)"
   ]
  },
  {
   "cell_type": "code",
   "execution_count": 18,
   "metadata": {},
   "outputs": [
    {
     "name": "stdout",
     "output_type": "stream",
     "text": [
      "Down to 3157 columns\n"
     ]
    }
   ],
   "source": [
    "# these are some more variables that we will not use as the info in the codebook says they are redundant\n",
    "drop_list = [3,4,6,10,11,12,13,15,16,17,18,20,21,22,23,24,25,26,27,28,29,30,31,32,33,34,35,36,44,45,47,48,\n",
    "49,50,51,52,53,54,55,56,57,60,61,62,63,64,65,66,67,68,69,70,71,71,72,73,74,75,76,77,78,80,81,\n",
    "82, 639,640,641,642,643]\n",
    "more_drops = [x for x in range(150,638)]\n",
    "drop_list.extend(more_drops)\n",
    "more_drops = [x for x in range(2622,2928)]\n",
    "drop_list.extend(more_drops)\n",
    "more_drops = [x for x in range(2603,2620)]\n",
    "drop_list.extend(more_drops)\n",
    "more_drops = [x for x in range(2959,2969)]\n",
    "drop_list.extend(more_drops)\n",
    "more_drops = [x for x in range(2955,2958)]\n",
    "drop_list.extend(more_drops)\n",
    "df.drop([\"V{:04}\".format(x) for x in drop_list], axis='columns')\n",
    "# 20-26 clarify hispaninc origin\n",
    "# 51,52 has citizenship info but too much was missing to be worth using\n",
    "# 60 - 66 clarify military service\n",
    "# 82 has discharge type for military\n",
    "# 104 - 114 previous arrest dates too many missing to be useful\n",
    "# 123-149 time of arrest, admission and release variables\n",
    "# 150 - 637 previous prison sentences undr other circumstances like parole violations and such\n",
    "    # 150-166 parole revocation info\n",
    "    # 167-190 parole readmission and release info\n",
    "# 559 days spent escaped\n",
    "\n",
    "print(f'Down to {df.shape[1]} columns')"
   ]
  },
  {
   "cell_type": "code",
   "execution_count": 19,
   "metadata": {},
   "outputs": [],
   "source": [
    "# classify types of offenses 'V{}'.format(, '')\n",
    "offense_codes = {'homicide':[10,11,12,13,14],\n",
    " 'manslaughter':[15,16,20,21,22,30,31,32],\n",
    " 'kidnapping':[40,41,42],\n",
    " 'rape':[50,51,52,60,61,62],\n",
    " 'sexual assault':[70,71,72,80,81,82],\n",
    " 'armed robbery':[90,91,92],\n",
    " 'unarmed robbery':[100,101,102],\n",
    " 'sodomy':[110,111,112],\n",
    " 'assault':[120,121,122,130,131,132,140,141,142],\n",
    " 'extortion':[150,151,152],\n",
    " 'hit and run':[160,161,612,300],\n",
    " 'child abuse':[170,171,172],\n",
    " 'other violence':[180],\n",
    " 'burglary':[190,191,192],\n",
    " 'arson':[200,201,202],\n",
    " 'auto theft':[210,211,212],\n",
    " 'fraud, embezzlement, bribery':[220,221,222,260,261,262,673,674,675,800,810,820,830,860],\n",
    " 'larceny':[230,231,232,240,241,242,250,251,252],\n",
    " 'trafficking stolen property':[270,271,272,280,281,282],\n",
    " 'destruction of property':[290,291,292],\n",
    " 'unauthorized vehicle':[310,311,312],\n",
    " 'trespassing':[320,321,322],\n",
    " 'other property offense':[330,331,332],\n",
    " 'drug trafficking':[340,341,342,350,351,352,360,361,362,370,371,372],\n",
    " 'drog posession/use':[380,381,382,385,286,387,390,391,392,400,401,402,410,420,425,430,440,450],\n",
    " 'escape':[460,461,462,470,471,472],\n",
    " 'weapon offense':[480,481,482],\n",
    " 'parole/probation violation':[490,500],\n",
    " 'rioting':[510,511,512],\n",
    " 'habitual':[520],\n",
    " 'other':[530,580,630,650,670,671,672,660,690,691,692,700,710,840,880,870],\n",
    " 'court offense':[540,541,542],\n",
    " 'traffic violations':[550,560,565,570],\n",
    " 'decency offenses':[590,600],\n",
    " 'immigration':[610],\n",
    " 'obstruction of law':[620,621,622],\n",
    " 'vice':[640],\n",
    " 'juvenile':[680],\n",
    " 'tax':[850]\n",
    "                }\n",
    "\n",
    "occupation_codes = {\n",
    "    'managerial position':[1,2,4,5,10,11,12,13,14,15,16,20,21,22,23,30,\n",
    "                           31,32,33,34,35,36,40,41,42,43],\n",
    "    'business operations':[50,52,53,54,56,60,62,70,71,72,73,80,81,82,83,\n",
    "                           84,85,86,91,93,94,95],\n",
    "    'CS and Math':[100,101,102,104,106,110,111,122],\n",
    "    'Architecture and engineering':[130,131,134,136,140,141,142,143,146,\n",
    "                                    153,154,155,156],\n",
    "    'life,physical,social science':[160,172,174,176,181,182,186,192,193,196],\n",
    "    'community and social services':[200,201,202,204,206],\n",
    "    'legal':[210,211,214,215],\n",
    "    'education':[220,230,232,233,234,240,243,244,254,255],\n",
    "    'enetertainment':[160,263,270,271,272,274,275,276,280,282,283,285,286,290,291,292],\n",
    "    'health':[303,305,306,313,316,324,325,330,332,340,341,350,351,352,353,354,\n",
    "    360,361,362,363,364,365],\n",
    "    'protective services':[370,371,372,373,374,380,382,385,390,391,392,394,395],\n",
    "    'food prep':[400,401,402,403,404,405,406,411,412,413,414,415,416],\n",
    "    'maintenance':[420,421,422,423,424,425,700,701,702,703,704,710,711,712,713,714,715,\n",
    "    716,720,721,722,724,726,731,732,733,734,735,736,741,742,743,751,752,\n",
    "    754,755,756,760,761,762],\n",
    "    'personal care and service':[430,432,434,435,440,442,443,446,450,451,\n",
    "                                 452,453,454,455,460,461,462,464,465],\n",
    "    'sales':[470,471,472,474,475,476,480,481,482,483,484,485,490,492,494,495,496],\n",
    "    'administrative support':[500,501,502,503,510,511,512,513,514,516,520,522,523,524,526,530,532,\n",
    "    532,533,535,536,540,541,542,551,552,553,554,555,556,560,561,562,563,\n",
    "    570,580,581,582,583,584,585,586,590,591,593],\n",
    "    'farm fish forest':[600,601,602,604,605,610,612,613],\n",
    "    'construction':[620,621,622,623,624,625,626,630,631,632,633,635,636,640,642,643,644,\n",
    "    646,650,651,652,653,660,666,670,671,672,673,674,675,676,680,682,683,684,\n",
    "    692,693,694],\n",
    "    'production':[770,771,772,773,774,775,780,781,783,784,785,790,792,793,795,796,\n",
    "    800,801,802,803,804,810,813,814,815,816,820,821,822,823,824,825,826,\n",
    "    830,831,832,833,834,835,840,841,842,845,846,850,851,952,853,854,855,\n",
    "    860,861,862,863,864,865,871,872,873,874,875,876,880,881,883,890,891,\n",
    "    892,893,895,896],\n",
    "    'transportation':[900,903,904,911,912,913,914,915,920,923,924,926,930,931,933,935,936,\n",
    "    941,942,951,952,956,960,961,962,963,964,965,972,974,975],\n",
    "    'military':[980,981,982,983]\n",
    "}"
   ]
  },
  {
   "cell_type": "code",
   "execution_count": 20,
   "metadata": {},
   "outputs": [],
   "source": [
    "offense_vars = [94,96,98,100,102,115,117,119,121,123]\n",
    "for c in [\"V{:04}\".format(x) for x in offense_vars]:\n",
    "    for x, y in offense_codes.items():\n",
    "        df[c] = df[c].replace(y, x)"
   ]
  },
  {
   "cell_type": "code",
   "execution_count": 21,
   "metadata": {},
   "outputs": [],
   "source": [
    "df.rename({'V1776':'OCCUPATION'}, axis='columns', inplace=True)\n",
    "for x, y in occupation_codes.items():\n",
    "        df['OCCUPATION'] = df['OCCUPATION'].replace(y, x)"
   ]
  },
  {
   "cell_type": "code",
   "execution_count": 22,
   "metadata": {},
   "outputs": [
    {
     "data": {
      "text/plain": [
       "(18185, 2991)"
      ]
     },
     "execution_count": 22,
     "metadata": {},
     "output_type": "execute_result"
    }
   ],
   "source": [
    "for c in ['V1057', 'V1061']:\n",
    "    df[c] = df[c].replace(['97','98','99'], np.nan)\n",
    "df.dropna(axis='columns', how='all', inplace=True)\n",
    "df.shape"
   ]
  },
  {
   "cell_type": "markdown",
   "metadata": {},
   "source": [
    "## Target"
   ]
  },
  {
   "cell_type": "code",
   "execution_count": 23,
   "metadata": {},
   "outputs": [],
   "source": [
    "y = discipline.loc[:,targets.values()]\n",
    "y.rename(mapper=targets, axis='columns', inplace=True)"
   ]
  },
  {
   "cell_type": "code",
   "execution_count": 24,
   "metadata": {},
   "outputs": [],
   "source": [
    "y_cat = discipline.loc[:,[c for c in targets.values() if not re.search(r'^n_.*', c) and not c == 'recent_violations']]"
   ]
  },
  {
   "cell_type": "code",
   "execution_count": 25,
   "metadata": {},
   "outputs": [],
   "source": [
    "y_num = discipline.loc[:,[c for c in targets.values() if re.search(r'^n_.*', c) or c == 'recent_violations']]"
   ]
  },
  {
   "cell_type": "code",
   "execution_count": 26,
   "metadata": {},
   "outputs": [
    {
     "data": {
      "text/plain": [
       "0.0    10035\n",
       "1.0     8150\n",
       "dtype: int64"
      ]
     },
     "execution_count": 26,
     "metadata": {},
     "output_type": "execute_result"
    }
   ],
   "source": [
    "for c in y_num.columns:\n",
    "    y_num[c] = y_num[c].replace([97,98,99],np.nan)\n",
    "for c in y_cat.columns:\n",
    "    y_cat[c] = y_cat[c].replace([9,8,7,2],[np.nan,np.nan,np.nan,0])\n",
    "y_cat.head()\n",
    "violator = y_cat.fillna(0).max(axis='columns')\n",
    "violator.value_counts()"
   ]
  },
  {
   "cell_type": "code",
   "execution_count": 46,
   "metadata": {},
   "outputs": [
    {
     "data": {
      "text/plain": [
       "Index(['drugs', 'alcohol', 'weapon_poss', 'stolen_prop', 'poss_unauth',\n",
       "       'verbal_staff', 'phys_staff', 'verb_inmate', 'phys_inmate',\n",
       "       'att_escape', 'out_place', 'disobey_ord', 'maj_violation',\n",
       "       'minor_violation', 'other_violation'],\n",
       "      dtype='object')"
      ]
     },
     "execution_count": 46,
     "metadata": {},
     "output_type": "execute_result"
    }
   ],
   "source": [
    "y_cat.columns"
   ]
  },
  {
   "cell_type": "markdown",
   "metadata": {},
   "source": [
    "Our targets will be drug violations, assault on staff, assault on inmates, attempt to escape, other violations and the most recent violation."
   ]
  },
  {
   "cell_type": "markdown",
   "metadata": {},
   "source": [
    "We have an incredible number of possible features that ar enot named. to save on cleaning time we will look at the most ocrrelated potential features and work on cleaning those so we don;t spend time on variables that we will not use. \n",
    "* correlation with preprison sentencing and custody level in prison\n",
    "* violations and levels of custody\n",
    "* correlations between punishments and violations\n",
    "* look at jail composition and the nature of violations\n",
    "\n"
   ]
  },
  {
   "cell_type": "markdown",
   "metadata": {},
   "source": [
    "## Modelling"
   ]
  },
  {
   "cell_type": "code",
   "execution_count": 27,
   "metadata": {},
   "outputs": [
    {
     "name": "stderr",
     "output_type": "stream",
     "text": [
      "/Users/branchflower/anaconda3/lib/python3.6/site-packages/lightgbm/__init__.py:46: UserWarning: Starting from version 2.2.1, the library file in distribution wheels for macOS is built by the Apple Clang (Xcode_8.3.1) compiler.\n",
      "This means that in case of installing LightGBM from PyPI via the ``pip install lightgbm`` command, you don't need to install the gcc compiler anymore.\n",
      "Instead of that, you need to install the OpenMP library, which is required for running LightGBM on the system with the Apple Clang compiler.\n",
      "You can install the OpenMP library by the following command: ``brew install libomp``.\n",
      "  \"You can install the OpenMP library by the following command: ``brew install libomp``.\", UserWarning)\n"
     ]
    }
   ],
   "source": [
    "# preprocessing\n",
    "from sklearn.model_selection import train_test_split\n",
    "\n",
    "# model imports\n",
    "from sklearn.ensemble import RandomForestClassifier\n",
    "from sklearn.linear_model import LogisticRegression\n",
    "from sklearn.naive_bayes import GaussianNB\n",
    "from sklearn.svm import SVC\n",
    "import lightgbm as lgb\n",
    "\n",
    "# assessment\n",
    "from sklearn.metrics import confusion_matrix\n",
    "from sklearn.metrics import f1_score"
   ]
  },
  {
   "cell_type": "code",
   "execution_count": 37,
   "metadata": {},
   "outputs": [],
   "source": [
    "# CREDIT: SCIKIT LEARN DOCUMENTATION at https://scikit-learn.org/stable/auto_examples/model_selection/plot_confusion_matrix.html \n",
    "def plot_confusion_matrix(cm, classes,\n",
    "                          normalize=False,\n",
    "                          title='Confusion matrix',\n",
    "                          cmap=plt.cm.Blues):\n",
    "    \"\"\"\n",
    "    This function prints and plots the confusion matrix.\n",
    "    Normalization can be applied by setting `normalize=True`.\n",
    "    \"\"\"\n",
    "    if normalize:\n",
    "        cm = cm.astype('float') / cm.sum(axis=1)[:, np.newaxis]\n",
    "        print(\"Normalized confusion matrix\")\n",
    "    else:\n",
    "        print('Confusion matrix, without normalization')\n",
    "\n",
    "    print(cm)\n",
    "\n",
    "    plt.imshow(cm, interpolation='nearest', cmap=cmap)\n",
    "    plt.title(title)\n",
    "    plt.colorbar()\n",
    "    tick_marks = np.arange(len(classes))\n",
    "    plt.xticks(tick_marks, classes, rotation=45)\n",
    "    plt.yticks(tick_marks, classes)\n",
    "\n",
    "    fmt = '.2f' if normalize else 'd'\n",
    "    thresh = cm.max() / 2.\n",
    "    for i, j in itertools.product(range(cm.shape[0]), range(cm.shape[1])):\n",
    "        plt.text(j, i, format(cm[i, j], fmt),\n",
    "                 horizontalalignment=\"center\",\n",
    "                 color=\"white\" if cm[i, j] > thresh else \"black\")\n",
    "\n",
    "    plt.ylabel('True label')\n",
    "    plt.xlabel('Predicted label')\n",
    "    plt.tight_layout()"
   ]
  },
  {
   "cell_type": "markdown",
   "metadata": {},
   "source": [
    "# feature selection\n",
    "* find some variables that we think would be particualrly important\n",
    "* look for what the data tells us is important\n",
    "* use a combination of the 2 to determine which variables"
   ]
  },
  {
   "cell_type": "markdown",
   "metadata": {},
   "source": [
    "Just throwing it in a random forest and seeing what happens, we can use the importances "
   ]
  },
  {
   "cell_type": "code",
   "execution_count": 28,
   "metadata": {},
   "outputs": [
    {
     "data": {
      "text/plain": [
       "(18185, 265)"
      ]
     },
     "execution_count": 28,
     "metadata": {},
     "output_type": "execute_result"
    }
   ],
   "source": [
    "# this is will just be using the named variables as we filtered through and named the ones that weren't alreayd\n",
    "named_cols = [c for c in df.columns if not re.search(r'^V\\d{4}', c)]\n",
    "named = df[named_cols]\n",
    "named.shape"
   ]
  },
  {
   "cell_type": "code",
   "execution_count": 30,
   "metadata": {},
   "outputs": [],
   "source": [
    "# we spent much time accounting for the missing values in the analysis variables so we feel comfortable \n",
    "# filling in a 0 here. We dropped the other ones where another value would be more appropriate\n",
    "named_train, named_test, violator_train, violator_test = train_test_split(pd.get_dummies(named.fillna(0)),\n",
    "                                                                          violator.fillna(0), random_state=seed) # y_cat['alcohol']"
   ]
  },
  {
   "cell_type": "code",
   "execution_count": 31,
   "metadata": {},
   "outputs": [],
   "source": [
    "named_rf = RandomForestClassifier(n_estimators=10000, criterion='gini', max_depth=20,\n",
    "                            bootstrap=True, max_features=50,\n",
    "                            verbose=1, n_jobs=-1, random_state=seed)"
   ]
  },
  {
   "cell_type": "code",
   "execution_count": 32,
   "metadata": {},
   "outputs": [
    {
     "name": "stderr",
     "output_type": "stream",
     "text": [
      "[Parallel(n_jobs=-1)]: Using backend ThreadingBackend with 8 concurrent workers.\n",
      "[Parallel(n_jobs=-1)]: Done  34 tasks      | elapsed:    1.0s\n",
      "[Parallel(n_jobs=-1)]: Done 184 tasks      | elapsed:    4.0s\n",
      "[Parallel(n_jobs=-1)]: Done 434 tasks      | elapsed:    9.3s\n",
      "[Parallel(n_jobs=-1)]: Done 784 tasks      | elapsed:   16.7s\n",
      "[Parallel(n_jobs=-1)]: Done 1234 tasks      | elapsed:   26.4s\n",
      "[Parallel(n_jobs=-1)]: Done 1784 tasks      | elapsed:   38.5s\n",
      "[Parallel(n_jobs=-1)]: Done 2434 tasks      | elapsed:   52.6s\n",
      "[Parallel(n_jobs=-1)]: Done 3184 tasks      | elapsed:  1.2min\n",
      "[Parallel(n_jobs=-1)]: Done 4034 tasks      | elapsed:  1.5min\n",
      "[Parallel(n_jobs=-1)]: Done 4984 tasks      | elapsed:  1.8min\n",
      "[Parallel(n_jobs=-1)]: Done 6034 tasks      | elapsed:  2.2min\n",
      "[Parallel(n_jobs=-1)]: Done 7184 tasks      | elapsed:  2.7min\n",
      "[Parallel(n_jobs=-1)]: Done 8434 tasks      | elapsed:  3.2min\n",
      "[Parallel(n_jobs=-1)]: Done 9784 tasks      | elapsed:  3.7min\n",
      "[Parallel(n_jobs=-1)]: Done 10000 out of 10000 | elapsed:  3.8min finished\n"
     ]
    },
    {
     "data": {
      "text/plain": [
       "RandomForestClassifier(bootstrap=True, class_weight=None, criterion='gini',\n",
       "            max_depth=20, max_features=50, max_leaf_nodes=None,\n",
       "            min_impurity_decrease=0.0, min_impurity_split=None,\n",
       "            min_samples_leaf=1, min_samples_split=2,\n",
       "            min_weight_fraction_leaf=0.0, n_estimators=10000, n_jobs=-1,\n",
       "            oob_score=False, random_state=17, verbose=1, warm_start=False)"
      ]
     },
     "execution_count": 32,
     "metadata": {},
     "output_type": "execute_result"
    }
   ],
   "source": [
    "# using just the named columns\n",
    "named_rf.fit(pd.get_dummies(named_train.fillna(0)),violator_train.fillna(0))"
   ]
  },
  {
   "cell_type": "code",
   "execution_count": 33,
   "metadata": {},
   "outputs": [
    {
     "name": "stdout",
     "output_type": "stream",
     "text": [
      "CH_CRIMHIST_COLLAPSED : 0.057081982485460946\n",
      "MCMH_WHEN_DISORDER : 0.047399310538364485\n",
      "SES_OFF_RAPED : 0.04247420424993857\n",
      "id : 0.04156988978705501\n",
      "SES_PERP_SEX_KNOWN : 0.024341854689360926\n",
      "DRUG_AMPH_TMEINF : 0.019596305404387615\n",
      "MCMH_MH_DRUGS_ARREST : 0.017605306813937908\n",
      "CO_CURRENTOFFENSE : 0.01557090124427095\n",
      "DRUG_BARB_TMEINF : 0.015177274151860322\n",
      "arrest_month : 0.011905683843795726\n",
      "VETERAN : 0.01119614951321341\n",
      "CO_NEWCOURTCOMMIT : 0.010934221797344663\n",
      "marital_status : 0.010306043698735732\n",
      "CH_INCARCERATION_NUM : 0.009155077873105927\n",
      "DRUG_METHAMP_TMEINF : 0.008764403356192657\n",
      "SES_PHYSSEXABUSED_EVER : 0.00809376900366006\n",
      "MCMH_MH_TREATMENT_AD : 0.007927180671802973\n",
      "AGE_CAT : 0.007898745360620586\n",
      "SES_AGEOFF_PHYSSEXABUSED : 0.007614922532052187\n",
      "crim_just_status : 0.0075012467049444\n",
      "MCMH_MH_TREATMENT_PA : 0.0066868662165895515\n",
      "CO_STATUSTME : 0.006378971293826985\n",
      "SES_AGEPERP_PHYSSEXABUSED : 0.006194414267561142\n",
      "DRUG_OPIATESMTH_CB : 0.004952220056464139\n",
      "DRUG_MARIJREG : 0.004948521531765772\n",
      "OFFENSE_PUBLICORDER : 0.004905593549394662\n",
      "DRUG_METHAMTH : 0.004858185493933552\n",
      "IC_WEAPON_KNIFE : 0.004842002052170873\n",
      "DRUG_METHATME : 0.0046009931530703796\n",
      "IC_MANYVICT_KNOWNVICT : 0.00447190659764475\n",
      "DRUG_DEPENDENCE_AND_ABUSE : 0.004242675933508931\n",
      "DRUG_OPIATES_CB : 0.004149807916555301\n",
      "SES_BROTHER_INCARCERATED : 0.004091368529143628\n",
      "DRUG_MARIJ : 0.004045204313638817\n",
      "SES_PHYSABUSED_EVER : 0.0040366009024640215\n",
      "DRUG_OPIATESREG_CB : 0.00400923021198383\n",
      "MCMH_SURGERY : 0.0038164231708278673\n",
      "crim_stat_arrest : 0.003782934974455097\n",
      "DRUG_ABUSE_ONLY : 0.0035736861221489233\n",
      "SES_SEXABUSED_EVER : 0.0034628509616602045\n",
      "MOST_SERIOUS_OFFENSE2 : 0.0034085132833967784\n",
      "CH_PRIORSENTENCE : 0.0034078303181969277\n",
      "CH_PRIORSENTENCE_NUM : 0.0032060499284419118\n",
      "DRUG_DEPENDENCE_TIME_SPENT : 0.0031931262735723134\n",
      "DRUG_COCRKREG : 0.003100864878777878\n",
      "DRUG_ANY_ALCDRUGTME : 0.0030868785165227806\n",
      "MCMH_DOCTOR : 0.0030645421998019094\n",
      "MCMH_RSLT_HIV : 0.003049444872705398\n",
      "DRUG_NUMPOS_CAGE_COLLAPSED : 0.003030894399543455\n",
      "SES_LIVEDGROWINGUP : 0.0030081309187469083\n",
      "DRUG_PCPMTH_CB : 0.002987527286952399\n",
      "CO_CURRENTOFFENSE_COL : 0.0029817372149943586\n",
      "MCMH_EVERRPT : 0.0029657453523576033\n",
      "DRUG_DEPENDENCE_WITHDRAWAL : 0.0029515604041142015\n",
      "CS_INCJ : 0.0029376753686136932\n",
      "black : 0.0029237170859215287\n",
      "DRUG_TRANQMTH_CB : 0.002894542131918743\n",
      "MCMH_PRESCRIP_MEDS_ARREST : 0.002864740110142365\n",
      "born_us : 0.0028411085241092414\n",
      "CH_PROBATION_NUM : 0.0028320224344279385\n",
      "DRUG_DEPENDENCE_OR_ABUSE : 0.0028160976905105732\n",
      "SES_FAMILY_INCARCERATED : 0.0027945754343537497\n",
      "SEX_OFFENDER : 0.0027938174958022652\n",
      "TYPEOFFENSE : 0.002784654691839617\n",
      "MCMH_HIVTEST : 0.002774571693447281\n",
      "DRUG_HIERARCHY2 : 0.0027505544904598027\n",
      "white : 0.002727945201253006\n",
      "CH_EXPECTEDTIMEMTH : 0.0026751390501820117\n",
      "DRUG_HEROPIT : 0.0025975957741087735\n",
      "SES_CHILD_INCARCERATED : 0.0025407532777873233\n",
      "hispanic : 0.002526230163328127\n",
      "DRUG_ANYTME : 0.002523478146449692\n",
      "DRUG_COCRKTME : 0.002511027529763323\n",
      "MCMH_CANCER : 0.002474662862920258\n",
      "life_sentence : 0.0024676073378789225\n",
      "DRUG_NUMPOS_CAGE : 0.00244395166456862\n",
      "CO_PAROLEVIOLATION : 0.002429681951444655\n",
      "SES_NUMOFMINOR_CHILDREN : 0.002314604256100251\n",
      "DRUG_MARIJTME : 0.002311913092887117\n",
      "DRUG_DEPENDENCE_COMPULSIVE : 0.0022948191348663893\n",
      "DRUG_DEPTME : 0.0022822922672528874\n",
      "DRUG_ANYREG : 0.0022761999206530993\n",
      "IC_WEAPON_TOY_BBGUN : 0.0022707666038044422\n",
      "DRUG_ANY : 0.002263660737874383\n",
      "MCMH_MH_DRUGS_PA : 0.0022338343915701683\n",
      "MCMH_SMI : 0.002196877719216281\n",
      "DRUG_ANYPGM : 0.00218060734966977\n",
      "height : 0.002178586704781205\n",
      "DRUG_METHAQ_TMEINF : 0.0021687347945094125\n",
      "CITIZENSHIP : 0.002158550674436641\n",
      "CO_PROBVIOLATION : 0.002127164248666007\n",
      "DRUG_COCAINE_TMEINF : 0.002125272927841059\n",
      "SES_NUMOFADULT_CHILDREN : 0.0020999094111684344\n",
      "CH_PRIORARREST_CAT : 0.0020644534913044055\n",
      "DRUG_HALLU_TMEINF : 0.002028254486952986\n",
      "MONEY_FOR_DRUGS : 0.0020150689297129144\n",
      "DRUG_COCRK : 0.00196783777823258\n",
      "DRUG_INHAL_CB : 0.0019596434874567647\n",
      "DRUG_ANYTRT : 0.0019486831457152833\n",
      "DRUG_MARIJ_TMEINF : 0.001917917750933662\n",
      "military_service : 0.001905184864196413\n",
      "DRUG_HEROIN_CB : 0.0019012439468419349\n",
      "DRUG_HROPTME : 0.0018962896608301601\n",
      "OFFENSE_PROPERTY : 0.001888063181653009\n",
      "OCCUPATION : 0.0018809757580154137\n",
      "MCMH_MENTAL_HISTORY : 0.00185844313503465\n",
      "DRUG_PCP_TMEINF : 0.0018433908749658076\n",
      "DRUG_STIMTME : 0.0018331195906634654\n",
      "DRUG_HALUTME : 0.0018313039192214106\n",
      "DRUG_OTHERDRUG_CB : 0.00182862008162041\n",
      "OFFENSE_VIOLENT : 0.0018218012507461268\n",
      "DRUG_DEPENDENCE_SYMPTOMS_CAT : 0.0018009935808185847\n",
      "DRUG_HALLU : 0.0017953776224064668\n",
      "MCMH_WHEN_DISORDER2 : 0.0017823183272308678\n",
      "DRUG_DEPENDENCE_ONLY : 0.0017788417187227037\n",
      "DRUG_AMPH_CB : 0.0017777365972761906\n",
      "SES_SISTER_INCARCERATED : 0.0017764788794583204\n",
      "DRUG_HROPREG : 0.0017641409159749404\n",
      "IC_WEAPON_FIREARM : 0.0017626776394928396\n",
      "CS_SEX_TREATMENT : 0.001758670089207402\n",
      "DRUG_COCAINEMTH_CB : 0.0017473158367900122\n",
      "DRUG_ABUSE_DSMIV : 0.001744535727328938\n",
      "DRUG_BARBMTH_CB : 0.001741371336851756\n",
      "IC_ONEVICT_HISPANIC : 0.0017165431139586826\n",
      "DRUG_TRPPRBDRUG : 0.0017016556478079785\n",
      "GENDER : 0.0016919464200047163\n",
      "DRUG_OTHERDRUGREG_CB : 0.0016846644325800735\n",
      "DRUG_ABUSE_HAZARDOUS : 0.001648793946586273\n",
      "IC_WEAPON_BLUNT : 0.0016219423702287313\n",
      "SES_PARENTS_INCARCERATED : 0.0016190222969808985\n",
      "CS_SENTENCEMTH : 0.0016049285633510876\n",
      "DRUG_ANYMTH : 0.001585820959627961\n",
      "IC_ONEVICT_RACE : 0.0015718264235706984\n",
      "DRUG_METHAQMTH_CB : 0.0015593140452716215\n",
      "SES_SPOUSE_INCARCERATED : 0.0015228106721911817\n",
      "DRUG_FIRED_ALCDRUG : 0.0015166084191156196\n",
      "DRUG_METHAQ_CB : 0.001513788618132799\n",
      "IC_WEAPON_OTHERSHARP : 0.0015026216419368069\n",
      "OFFENSE_DRUG : 0.0014973871484281127\n",
      "DRUG_DEPENDENCE_OR_ABUSE_NONE : 0.001496410497723453\n",
      "DRUG_MARIJMTH : 0.0014902451234616\n",
      "DRUG_HEROIN_TMEINF : 0.0014880007422968182\n",
      "DRUG_DROVE_ALCDRUG : 0.0014876234880052091\n",
      "DRUG_MARIJREG_CB : 0.0014834807188105292\n",
      "IC_ONEVICT_GENDER : 0.0014780363975999597\n",
      "DRUG_ABUSE_LEGAL_PROBS : 0.0014737515464258043\n",
      "SES_FATHER_INCARCERATED : 0.0014680483474844102\n",
      "IC_ONEVICT_RELATIONSHIP : 0.0014371041671829184\n",
      "SES_MOTHER_INCARCERATED : 0.001436418094403707\n",
      "CO_UNSENTENCED : 0.0014355633604888843\n",
      "IC_WEAPON_OTHER : 0.0014350131442227559\n",
      "native_american : 0.001409917868892101\n",
      "DRUG_FIGHT_ALCDRUG : 0.0013989687097682299\n",
      "DRUG_COCRKMTH : 0.0013844040814045492\n",
      "IC_ONEVICT_AGECAT : 0.0013806882982270992\n",
      "SES_IMEDFAMILY_INCARCERATED : 0.0013568917978624832\n",
      "DRUG_CRACKMTH_CB : 0.0013524922122816916\n",
      "DRUG_DISPUTES_ALCDRUG : 0.0013505066754361174\n",
      "DRUG_DEPENDENCE : 0.0013172561984492147\n",
      "DRUG_CARACCIDENT_DRUG : 0.0012984423824547089\n",
      "DRUG_CARACCIDENT_ALCDRUG : 0.0012937706227718626\n",
      "DRUG_HALUREG : 0.0012823843590326347\n",
      "RACE : 0.001276331712577092\n",
      "DRUG_BARB_CB : 0.0012639931792896141\n"
     ]
    }
   ],
   "source": [
    "named_sorted_x = sorted({x:y for x, y in zip(named.columns, named_rf.feature_importances_)}.items(), key=operator.itemgetter(1))\n",
    "for x, y in named_sorted_x[:100:-1]:\n",
    "    print(x, ':', y)"
   ]
  },
  {
   "cell_type": "markdown",
   "metadata": {},
   "source": [
    "We used this list to determine which variables to use and which ones might be worth looking deeper into"
   ]
  },
  {
   "cell_type": "markdown",
   "metadata": {},
   "source": [
    "The fact that time served is the most important means that we aren't really doing a good job of identifying the characteristics that make someone a violator of prison rules. finding some way to get around the fact that people simply break rules if they have been in prison longer would be important\n",
    "maybe ration of violation nuber to time served oir subsetting the data to those recently entered into prison."
   ]
  },
  {
   "cell_type": "code",
   "execution_count": 34,
   "metadata": {},
   "outputs": [
    {
     "name": "stderr",
     "output_type": "stream",
     "text": [
      "[Parallel(n_jobs=8)]: Using backend ThreadingBackend with 8 concurrent workers.\n",
      "[Parallel(n_jobs=8)]: Done  34 tasks      | elapsed:    0.1s\n",
      "[Parallel(n_jobs=8)]: Done 184 tasks      | elapsed:    0.2s\n",
      "[Parallel(n_jobs=8)]: Done 434 tasks      | elapsed:    0.5s\n",
      "[Parallel(n_jobs=8)]: Done 784 tasks      | elapsed:    1.0s\n",
      "[Parallel(n_jobs=8)]: Done 1234 tasks      | elapsed:    1.5s\n",
      "[Parallel(n_jobs=8)]: Done 1784 tasks      | elapsed:    2.2s\n",
      "[Parallel(n_jobs=8)]: Done 2434 tasks      | elapsed:    2.9s\n",
      "[Parallel(n_jobs=8)]: Done 3184 tasks      | elapsed:    3.7s\n",
      "[Parallel(n_jobs=8)]: Done 4034 tasks      | elapsed:    4.7s\n",
      "[Parallel(n_jobs=8)]: Done 4984 tasks      | elapsed:    5.9s\n",
      "[Parallel(n_jobs=8)]: Done 6034 tasks      | elapsed:    7.2s\n",
      "[Parallel(n_jobs=8)]: Done 7184 tasks      | elapsed:    8.4s\n",
      "[Parallel(n_jobs=8)]: Done 8434 tasks      | elapsed:    9.6s\n",
      "[Parallel(n_jobs=8)]: Done 9784 tasks      | elapsed:   11.0s\n",
      "[Parallel(n_jobs=8)]: Done 10000 out of 10000 | elapsed:   11.3s finished\n"
     ]
    },
    {
     "name": "stdout",
     "output_type": "stream",
     "text": [
      "0.9991858003582478\n"
     ]
    },
    {
     "name": "stderr",
     "output_type": "stream",
     "text": [
      "[Parallel(n_jobs=8)]: Using backend ThreadingBackend with 8 concurrent workers.\n",
      "[Parallel(n_jobs=8)]: Done  34 tasks      | elapsed:    0.0s\n",
      "[Parallel(n_jobs=8)]: Done 184 tasks      | elapsed:    0.1s\n",
      "[Parallel(n_jobs=8)]: Done 434 tasks      | elapsed:    0.2s\n",
      "[Parallel(n_jobs=8)]: Done 784 tasks      | elapsed:    0.4s\n",
      "[Parallel(n_jobs=8)]: Done 1234 tasks      | elapsed:    0.6s\n",
      "[Parallel(n_jobs=8)]: Done 1784 tasks      | elapsed:    0.8s\n",
      "[Parallel(n_jobs=8)]: Done 2434 tasks      | elapsed:    1.1s\n",
      "[Parallel(n_jobs=8)]: Done 3184 tasks      | elapsed:    1.5s\n",
      "[Parallel(n_jobs=8)]: Done 4034 tasks      | elapsed:    1.9s\n",
      "[Parallel(n_jobs=8)]: Done 4984 tasks      | elapsed:    2.5s\n",
      "[Parallel(n_jobs=8)]: Done 6034 tasks      | elapsed:    3.0s\n",
      "[Parallel(n_jobs=8)]: Done 7184 tasks      | elapsed:    3.5s\n",
      "[Parallel(n_jobs=8)]: Done 8434 tasks      | elapsed:    4.0s\n"
     ]
    },
    {
     "name": "stdout",
     "output_type": "stream",
     "text": [
      "0.6569536423841059\n"
     ]
    },
    {
     "name": "stderr",
     "output_type": "stream",
     "text": [
      "[Parallel(n_jobs=8)]: Done 9784 tasks      | elapsed:    4.6s\n",
      "[Parallel(n_jobs=8)]: Done 10000 out of 10000 | elapsed:    4.7s finished\n"
     ]
    }
   ],
   "source": [
    "print(f1_score(y_true=violator_train.fillna(0),\n",
    "      y_pred=named_rf.predict(pd.get_dummies(named_train).fillna(0))))\n",
    "print(f1_score(violator_test.fillna(0), named_rf.predict(pd.get_dummies(named_test).fillna(0))))"
   ]
  },
  {
   "cell_type": "code",
   "execution_count": 42,
   "metadata": {},
   "outputs": [
    {
     "name": "stderr",
     "output_type": "stream",
     "text": [
      "[Parallel(n_jobs=8)]: Using backend ThreadingBackend with 8 concurrent workers.\n",
      "[Parallel(n_jobs=8)]: Done  34 tasks      | elapsed:    0.0s\n",
      "[Parallel(n_jobs=8)]: Done 184 tasks      | elapsed:    0.1s\n",
      "[Parallel(n_jobs=8)]: Done 434 tasks      | elapsed:    0.2s\n",
      "[Parallel(n_jobs=8)]: Done 784 tasks      | elapsed:    0.4s\n",
      "[Parallel(n_jobs=8)]: Done 1234 tasks      | elapsed:    0.6s\n",
      "[Parallel(n_jobs=8)]: Done 1784 tasks      | elapsed:    0.8s\n",
      "[Parallel(n_jobs=8)]: Done 2434 tasks      | elapsed:    1.1s\n",
      "[Parallel(n_jobs=8)]: Done 3184 tasks      | elapsed:    1.4s\n",
      "[Parallel(n_jobs=8)]: Done 4034 tasks      | elapsed:    1.8s\n",
      "[Parallel(n_jobs=8)]: Done 4984 tasks      | elapsed:    2.2s\n",
      "[Parallel(n_jobs=8)]: Done 6034 tasks      | elapsed:    2.7s\n",
      "[Parallel(n_jobs=8)]: Done 7184 tasks      | elapsed:    3.2s\n",
      "[Parallel(n_jobs=8)]: Done 8434 tasks      | elapsed:    3.8s\n",
      "[Parallel(n_jobs=8)]: Done 9784 tasks      | elapsed:    4.4s\n",
      "[Parallel(n_jobs=8)]: Done 10000 out of 10000 | elapsed:    4.5s finished\n"
     ]
    },
    {
     "name": "stdout",
     "output_type": "stream",
     "text": [
      "Confusion matrix, without normalization\n",
      "[[2012  531]\n",
      " [ 764 1240]]\n"
     ]
    },
    {
     "data": {
      "image/png": "[encoded data removed]",
      "text/plain": [
       "<Figure size 432x288 with 2 Axes>"
      ]
     },
     "metadata": {},
     "output_type": "display_data"
    }
   ],
   "source": [
    "plot_confusion_matrix(confusion_matrix(violator_test.fillna(0),\n",
    "                                       named_rf.predict(pd.get_dummies(named_test).fillna(0))),\n",
    "                     ['broke rules', 'did not break rules'])"
   ]
  },
  {
   "cell_type": "code",
   "execution_count": null,
   "metadata": {},
   "outputs": [],
   "source": [
    "logit = LogisticRegression(solver='lbfgs', multi_class='auto', max_iter=1500).fit(np.array(pd.get_dummies(X).fillna(0), dtype='float64'), violator)\n",
    "logit.fit(named_train)\n",
    "logit.predict(pd.get_dummies(X).fillna(0))"
   ]
  },
  {
   "cell_type": "code",
   "execution_count": null,
   "metadata": {},
   "outputs": [],
   "source": [
    "# this is a function to repeat the process with the different types of violations\n"
   ]
  },
  {
   "cell_type": "code",
   "execution_count": null,
   "metadata": {},
   "outputs": [],
   "source": []
  }
 ],
 "metadata": {
  "kernelspec": {
   "display_name": "Python 3",
   "language": "python",
   "name": "python3"
  },
  "language_info": {
   "codemirror_mode": {
    "name": "ipython",
    "version": 3
   },
   "file_extension": ".py",
   "mimetype": "text/x-python",
   "name": "python",
   "nbconvert_exporter": "python",
   "pygments_lexer": "ipython3",
   "version": "3.6.5"
  }
 },
 "nbformat": 4,
 "nbformat_minor": 2
}
